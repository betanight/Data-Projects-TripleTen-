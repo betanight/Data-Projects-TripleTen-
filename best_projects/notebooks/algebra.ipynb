{
 "cells": [
  {
   "cell_type": "markdown",
   "metadata": {},
   "source": [
    "# Statement"
   ]
  },
  {
   "cell_type": "markdown",
   "metadata": {},
   "source": [
    "The Sure Tomorrow insurance company wants to solve several tasks with the help of Machine Learning and you are asked to evaluate that possibility.\n",
    "\n",
    "- Task 1: Find customers who are similar to a given customer. This will help the company's agents with marketing.\n",
    "- Task 2: Predict whether a new customer is likely to receive an insurance benefit. Can a prediction model do better than a dummy model?\n",
    "- Task 3: Predict the number of insurance benefits a new customer is likely to receive using a linear regression model.\n",
    "- Task 4: Protect clients' personal data without breaking the model from the previous task. It's necessary to develop a data transformation algorithm that would make it hard to recover personal information if the data fell into the wrong hands. This is called data masking, or data obfuscation. But the data should be protected in such a way that the quality of machine learning models doesn't suffer. You don't need to pick the best model, just prove that the algorithm works correctly."
   ]
  },
  {
   "cell_type": "markdown",
   "metadata": {},
   "source": [
    "# Data Preprocessing & Exploration\n",
    "\n",
    "## Initialization"
   ]
  },
  {
   "cell_type": "code",
   "execution_count": 36,
   "metadata": {},
   "outputs": [],
   "source": [
    "import numpy as np\n",
    "import pandas as pd\n",
    "import os\n",
    "import math\n",
    "\n",
    "import seaborn as sns\n",
    "\n",
    "import sklearn.linear_model\n",
    "import sklearn.metrics\n",
    "import sklearn.neighbors\n",
    "import sklearn.preprocessing\n",
    "\n",
    "from sklearn.model_selection import train_test_split\n",
    "from sklearn.preprocessing import MaxAbsScaler\n",
    "from sklearn.neighbors import KNeighborsClassifier\n",
    "from sklearn.neighbors import NearestNeighbors\n",
    "from sklearn.linear_model import LinearRegression\n",
    "from sklearn.metrics import mean_squared_error, r2_score\n",
    "\n",
    "from IPython.display import display"
   ]
  },
  {
   "cell_type": "markdown",
   "metadata": {},
   "source": [
    "## Load Data"
   ]
  },
  {
   "cell_type": "markdown",
   "metadata": {},
   "source": [
    "Load data and conduct a basic check that it's free from obvious issues."
   ]
  },
  {
   "cell_type": "code",
   "execution_count": 2,
   "metadata": {},
   "outputs": [],
   "source": [
    "dataset_path = os.path.join('..', 'datasets')\n",
    "\n",
    "df = pd.read_csv(os.path.join(dataset_path, 'insurance_us.csv'))"
   ]
  },
  {
   "cell_type": "markdown",
   "metadata": {},
   "source": [
    "We rename the colums to make the code look more consistent with its style."
   ]
  },
  {
   "cell_type": "code",
   "execution_count": 3,
   "metadata": {},
   "outputs": [],
   "source": [
    "df = df.rename(columns={'Gender': 'gender', 'Age': 'age', 'Salary': 'income', 'Family members': 'family_members', 'Insurance benefits': 'insurance_benefits'})"
   ]
  },
  {
   "cell_type": "code",
   "execution_count": 4,
   "metadata": {},
   "outputs": [
    {
     "data": {
      "text/html": [
       "<div>\n",
       "<style scoped>\n",
       "    .dataframe tbody tr th:only-of-type {\n",
       "        vertical-align: middle;\n",
       "    }\n",
       "\n",
       "    .dataframe tbody tr th {\n",
       "        vertical-align: top;\n",
       "    }\n",
       "\n",
       "    .dataframe thead th {\n",
       "        text-align: right;\n",
       "    }\n",
       "</style>\n",
       "<table border=\"1\" class=\"dataframe\">\n",
       "  <thead>\n",
       "    <tr style=\"text-align: right;\">\n",
       "      <th></th>\n",
       "      <th>gender</th>\n",
       "      <th>age</th>\n",
       "      <th>income</th>\n",
       "      <th>family_members</th>\n",
       "      <th>insurance_benefits</th>\n",
       "    </tr>\n",
       "  </thead>\n",
       "  <tbody>\n",
       "    <tr>\n",
       "      <th>3263</th>\n",
       "      <td>0</td>\n",
       "      <td>24.0</td>\n",
       "      <td>28100.0</td>\n",
       "      <td>3</td>\n",
       "      <td>0</td>\n",
       "    </tr>\n",
       "    <tr>\n",
       "      <th>4076</th>\n",
       "      <td>0</td>\n",
       "      <td>34.0</td>\n",
       "      <td>39300.0</td>\n",
       "      <td>2</td>\n",
       "      <td>0</td>\n",
       "    </tr>\n",
       "    <tr>\n",
       "      <th>4368</th>\n",
       "      <td>0</td>\n",
       "      <td>56.0</td>\n",
       "      <td>50300.0</td>\n",
       "      <td>2</td>\n",
       "      <td>3</td>\n",
       "    </tr>\n",
       "    <tr>\n",
       "      <th>67</th>\n",
       "      <td>1</td>\n",
       "      <td>37.0</td>\n",
       "      <td>29600.0</td>\n",
       "      <td>2</td>\n",
       "      <td>0</td>\n",
       "    </tr>\n",
       "    <tr>\n",
       "      <th>712</th>\n",
       "      <td>1</td>\n",
       "      <td>19.0</td>\n",
       "      <td>52600.0</td>\n",
       "      <td>0</td>\n",
       "      <td>0</td>\n",
       "    </tr>\n",
       "    <tr>\n",
       "      <th>4354</th>\n",
       "      <td>1</td>\n",
       "      <td>33.0</td>\n",
       "      <td>42500.0</td>\n",
       "      <td>0</td>\n",
       "      <td>0</td>\n",
       "    </tr>\n",
       "    <tr>\n",
       "      <th>3602</th>\n",
       "      <td>0</td>\n",
       "      <td>44.0</td>\n",
       "      <td>65200.0</td>\n",
       "      <td>2</td>\n",
       "      <td>1</td>\n",
       "    </tr>\n",
       "    <tr>\n",
       "      <th>3297</th>\n",
       "      <td>0</td>\n",
       "      <td>24.0</td>\n",
       "      <td>34800.0</td>\n",
       "      <td>0</td>\n",
       "      <td>0</td>\n",
       "    </tr>\n",
       "    <tr>\n",
       "      <th>2695</th>\n",
       "      <td>1</td>\n",
       "      <td>33.0</td>\n",
       "      <td>37500.0</td>\n",
       "      <td>4</td>\n",
       "      <td>0</td>\n",
       "    </tr>\n",
       "    <tr>\n",
       "      <th>528</th>\n",
       "      <td>1</td>\n",
       "      <td>23.0</td>\n",
       "      <td>50500.0</td>\n",
       "      <td>1</td>\n",
       "      <td>0</td>\n",
       "    </tr>\n",
       "  </tbody>\n",
       "</table>\n",
       "</div>"
      ],
      "text/plain": [
       "      gender   age   income  family_members  insurance_benefits\n",
       "3263       0  24.0  28100.0               3                   0\n",
       "4076       0  34.0  39300.0               2                   0\n",
       "4368       0  56.0  50300.0               2                   3\n",
       "67         1  37.0  29600.0               2                   0\n",
       "712        1  19.0  52600.0               0                   0\n",
       "4354       1  33.0  42500.0               0                   0\n",
       "3602       0  44.0  65200.0               2                   1\n",
       "3297       0  24.0  34800.0               0                   0\n",
       "2695       1  33.0  37500.0               4                   0\n",
       "528        1  23.0  50500.0               1                   0"
      ]
     },
     "execution_count": 4,
     "metadata": {},
     "output_type": "execute_result"
    }
   ],
   "source": [
    "df.sample(10)"
   ]
  },
  {
   "cell_type": "code",
   "execution_count": 5,
   "metadata": {},
   "outputs": [
    {
     "name": "stdout",
     "output_type": "stream",
     "text": [
      "<class 'pandas.core.frame.DataFrame'>\n",
      "RangeIndex: 5000 entries, 0 to 4999\n",
      "Data columns (total 5 columns):\n",
      " #   Column              Non-Null Count  Dtype  \n",
      "---  ------              --------------  -----  \n",
      " 0   gender              5000 non-null   int64  \n",
      " 1   age                 5000 non-null   float64\n",
      " 2   income              5000 non-null   float64\n",
      " 3   family_members      5000 non-null   int64  \n",
      " 4   insurance_benefits  5000 non-null   int64  \n",
      "dtypes: float64(2), int64(3)\n",
      "memory usage: 195.4 KB\n"
     ]
    }
   ],
   "source": [
    "df.info()"
   ]
  },
  {
   "cell_type": "markdown",
   "metadata": {},
   "source": [
    "`Age` should be an integer datatype. Let's change that real quick."
   ]
  },
  {
   "cell_type": "code",
   "execution_count": 6,
   "metadata": {},
   "outputs": [],
   "source": [
    "df['age'] = df['age'].astype(int)"
   ]
  },
  {
   "cell_type": "code",
   "execution_count": 7,
   "metadata": {},
   "outputs": [
    {
     "name": "stdout",
     "output_type": "stream",
     "text": [
      "<class 'pandas.core.frame.DataFrame'>\n",
      "RangeIndex: 5000 entries, 0 to 4999\n",
      "Data columns (total 5 columns):\n",
      " #   Column              Non-Null Count  Dtype  \n",
      "---  ------              --------------  -----  \n",
      " 0   gender              5000 non-null   int64  \n",
      " 1   age                 5000 non-null   int64  \n",
      " 2   income              5000 non-null   float64\n",
      " 3   family_members      5000 non-null   int64  \n",
      " 4   insurance_benefits  5000 non-null   int64  \n",
      "dtypes: float64(1), int64(4)\n",
      "memory usage: 195.4 KB\n"
     ]
    }
   ],
   "source": [
    "df.info()"
   ]
  },
  {
   "cell_type": "code",
   "execution_count": 8,
   "metadata": {},
   "outputs": [
    {
     "data": {
      "text/html": [
       "<div>\n",
       "<style scoped>\n",
       "    .dataframe tbody tr th:only-of-type {\n",
       "        vertical-align: middle;\n",
       "    }\n",
       "\n",
       "    .dataframe tbody tr th {\n",
       "        vertical-align: top;\n",
       "    }\n",
       "\n",
       "    .dataframe thead th {\n",
       "        text-align: right;\n",
       "    }\n",
       "</style>\n",
       "<table border=\"1\" class=\"dataframe\">\n",
       "  <thead>\n",
       "    <tr style=\"text-align: right;\">\n",
       "      <th></th>\n",
       "      <th>gender</th>\n",
       "      <th>age</th>\n",
       "      <th>income</th>\n",
       "      <th>family_members</th>\n",
       "      <th>insurance_benefits</th>\n",
       "    </tr>\n",
       "  </thead>\n",
       "  <tbody>\n",
       "    <tr>\n",
       "      <th>count</th>\n",
       "      <td>5000.000000</td>\n",
       "      <td>5000.000000</td>\n",
       "      <td>5000.000000</td>\n",
       "      <td>5000.000000</td>\n",
       "      <td>5000.000000</td>\n",
       "    </tr>\n",
       "    <tr>\n",
       "      <th>mean</th>\n",
       "      <td>0.499000</td>\n",
       "      <td>30.952800</td>\n",
       "      <td>39916.360000</td>\n",
       "      <td>1.194200</td>\n",
       "      <td>0.148000</td>\n",
       "    </tr>\n",
       "    <tr>\n",
       "      <th>std</th>\n",
       "      <td>0.500049</td>\n",
       "      <td>8.440807</td>\n",
       "      <td>9900.083569</td>\n",
       "      <td>1.091387</td>\n",
       "      <td>0.463183</td>\n",
       "    </tr>\n",
       "    <tr>\n",
       "      <th>min</th>\n",
       "      <td>0.000000</td>\n",
       "      <td>18.000000</td>\n",
       "      <td>5300.000000</td>\n",
       "      <td>0.000000</td>\n",
       "      <td>0.000000</td>\n",
       "    </tr>\n",
       "    <tr>\n",
       "      <th>25%</th>\n",
       "      <td>0.000000</td>\n",
       "      <td>24.000000</td>\n",
       "      <td>33300.000000</td>\n",
       "      <td>0.000000</td>\n",
       "      <td>0.000000</td>\n",
       "    </tr>\n",
       "    <tr>\n",
       "      <th>50%</th>\n",
       "      <td>0.000000</td>\n",
       "      <td>30.000000</td>\n",
       "      <td>40200.000000</td>\n",
       "      <td>1.000000</td>\n",
       "      <td>0.000000</td>\n",
       "    </tr>\n",
       "    <tr>\n",
       "      <th>75%</th>\n",
       "      <td>1.000000</td>\n",
       "      <td>37.000000</td>\n",
       "      <td>46600.000000</td>\n",
       "      <td>2.000000</td>\n",
       "      <td>0.000000</td>\n",
       "    </tr>\n",
       "    <tr>\n",
       "      <th>max</th>\n",
       "      <td>1.000000</td>\n",
       "      <td>65.000000</td>\n",
       "      <td>79000.000000</td>\n",
       "      <td>6.000000</td>\n",
       "      <td>5.000000</td>\n",
       "    </tr>\n",
       "  </tbody>\n",
       "</table>\n",
       "</div>"
      ],
      "text/plain": [
       "            gender          age        income  family_members  \\\n",
       "count  5000.000000  5000.000000   5000.000000     5000.000000   \n",
       "mean      0.499000    30.952800  39916.360000        1.194200   \n",
       "std       0.500049     8.440807   9900.083569        1.091387   \n",
       "min       0.000000    18.000000   5300.000000        0.000000   \n",
       "25%       0.000000    24.000000  33300.000000        0.000000   \n",
       "50%       0.000000    30.000000  40200.000000        1.000000   \n",
       "75%       1.000000    37.000000  46600.000000        2.000000   \n",
       "max       1.000000    65.000000  79000.000000        6.000000   \n",
       "\n",
       "       insurance_benefits  \n",
       "count         5000.000000  \n",
       "mean             0.148000  \n",
       "std              0.463183  \n",
       "min              0.000000  \n",
       "25%              0.000000  \n",
       "50%              0.000000  \n",
       "75%              0.000000  \n",
       "max              5.000000  "
      ]
     },
     "execution_count": 8,
     "metadata": {},
     "output_type": "execute_result"
    }
   ],
   "source": [
    "df.describe()"
   ]
  },
  {
   "cell_type": "markdown",
   "metadata": {},
   "source": [
    "Everything looks good here. The `age` column is fairly balanced, with a good mix of ages. The average `age` is around **30 years**, indicating a predominance of middle-aged adults. The income average is about `$40,000`, reflecting a typical income range. On average, users have just **one family member**, and about **15 percent of users** have insurance benefits."
   ]
  },
  {
   "cell_type": "markdown",
   "metadata": {},
   "source": [
    "## EDA"
   ]
  },
  {
   "cell_type": "markdown",
   "metadata": {},
   "source": [
    "Let's quickly check whether there are certain groups of customers by looking at the pair plot."
   ]
  },
  {
   "cell_type": "code",
   "execution_count": 9,
   "metadata": {},
   "outputs": [
    {
     "data": {
      "image/png": "[encoded data removed]",
      "text/plain": [
       "<Figure size 1200x1200 with 30 Axes>"
      ]
     },
     "metadata": {},
     "output_type": "display_data"
    }
   ],
   "source": [
    "g = sns.pairplot(df, kind='hist')\n",
    "g.fig.set_size_inches(12, 12)"
   ]
  },
  {
   "cell_type": "markdown",
   "metadata": {},
   "source": [
    "Ok, it is a bit difficult to spot obvious groups (clusters) as it is difficult to combine several variables simultaneously (to analyze multivariate distributions). That's where LA and ML can be quite handy."
   ]
  },
  {
   "cell_type": "markdown",
   "metadata": {},
   "source": [
    "# Task 1. Similar Customers"
   ]
  },
  {
   "cell_type": "markdown",
   "metadata": {},
   "source": [
    "`Task Overview`\n",
    "\n",
    "I will write a function that returns the k nearest neighbors for the $n^{th}$ object based on a specified distance metric. The number of received insurance benefits will not be considered for this task.\n",
    "\n",
    "I will test the function for four combinations of two cases:\n",
    "- **Scaling:**\n",
    "  - The data is not scaled.\n",
    "  - The data is scaled using the [MaxAbsScaler](https://scikit-learn.org/stable/modules/generated/sklearn.preprocessing.MaxAbsScaler.html) scaler.\n",
    "  \n",
    "- **Distance Metrics:**\n",
    "  - Euclidean distance.\n",
    "  - Manhattan distance.\n",
    "\n",
    "`Questions to Answer`\n",
    "\n",
    "1. **Does the data being not scaled affect the kNN algorithm? If so, how does that appear?**\n",
    "2. **How similar are the results using the Manhattan distance metric (regardless of the scaling)?**"
   ]
  },
  {
   "cell_type": "code",
   "execution_count": 11,
   "metadata": {},
   "outputs": [],
   "source": [
    "feature_names = ['gender', 'age', 'income', 'family_members']"
   ]
  },
  {
   "cell_type": "code",
   "execution_count": 20,
   "metadata": {},
   "outputs": [],
   "source": [
    "def get_knn(df, n, k, metric):\n",
    "    \"\"\"\n",
    "    Returns k nearest neighbors for a given object based on a specified distance metric.\n",
    "\n",
    "    :param df: pandas DataFrame used to find similar objects within\n",
    "    :param n: object no for which the nearest neighbours are looked for\n",
    "    :param k: the number of the nearest neighbours to return\n",
    "    :param metric: name of distance metric ('euclidean' or 'manhattan')\n",
    "    \"\"\"\n",
    "    feature_names = df.columns.difference(['gender', 'insurance_benefits'])\n",
    "    X = df[feature_names]\n",
    "    nbrs = NearestNeighbors(n_neighbors=k, metric=metric)\n",
    "    nbrs.fit(X)\n",
    "    query_point = X.iloc[n:n+1]\n",
    "    nbrs_distances, nbrs_indices = nbrs.kneighbors(query_point, k, return_distance=True)\n",
    "    df_res = pd.concat([\n",
    "        df.iloc[nbrs_indices[0]],\n",
    "        pd.DataFrame(nbrs_distances.T, index=nbrs_indices[0], columns=['distance'])\n",
    "    ], axis=1)\n",
    "    return df_res"
   ]
  },
  {
   "cell_type": "markdown",
   "metadata": {},
   "source": [
    "The `get_knn` function finds the k nearest neighbors for a given object based on a specified distance metric (Euclidean or Manhattan). \n",
    "\n",
    "It takes four parameters:\n",
    "- `df`: the dataset (pandas DataFrame).\n",
    "- `n`: the index of the object.\n",
    "- `k`: the number of neighbors to return.\n",
    "- `metric`: the distance metric ('euclidean' or 'manhattan').\n",
    "\n",
    "The function:\n",
    "1. Selects the relevant features (excluding 'gender' and 'insurance_benefits').\n",
    "2. Uses `NearestNeighbors` from scikit-learn to fit the data.\n",
    "3. Finds the k nearest neighbors for the object at index `n`.\n",
    "4. Returns a DataFrame with the nearest neighbors and their distances."
   ]
  },
  {
   "cell_type": "markdown",
   "metadata": {},
   "source": [
    "Next, let's scale the data!"
   ]
  },
  {
   "cell_type": "code",
   "execution_count": 21,
   "metadata": {},
   "outputs": [],
   "source": [
    "feature_names = ['gender', 'age', 'income', 'family_members']\n",
    "\n",
    "transformer_mas = sklearn.preprocessing.MaxAbsScaler().fit(df[feature_names].to_numpy())\n",
    "\n",
    "df_scaled = df.copy()\n",
    "df_scaled.loc[:, feature_names] = transformer_mas.transform(df[feature_names].to_numpy())"
   ]
  },
  {
   "cell_type": "code",
   "execution_count": 22,
   "metadata": {},
   "outputs": [
    {
     "data": {
      "text/html": [
       "<div>\n",
       "<style scoped>\n",
       "    .dataframe tbody tr th:only-of-type {\n",
       "        vertical-align: middle;\n",
       "    }\n",
       "\n",
       "    .dataframe tbody tr th {\n",
       "        vertical-align: top;\n",
       "    }\n",
       "\n",
       "    .dataframe thead th {\n",
       "        text-align: right;\n",
       "    }\n",
       "</style>\n",
       "<table border=\"1\" class=\"dataframe\">\n",
       "  <thead>\n",
       "    <tr style=\"text-align: right;\">\n",
       "      <th></th>\n",
       "      <th>gender</th>\n",
       "      <th>age</th>\n",
       "      <th>income</th>\n",
       "      <th>family_members</th>\n",
       "      <th>insurance_benefits</th>\n",
       "    </tr>\n",
       "  </thead>\n",
       "  <tbody>\n",
       "    <tr>\n",
       "      <th>4738</th>\n",
       "      <td>1</td>\n",
       "      <td>0.369231</td>\n",
       "      <td>0.613924</td>\n",
       "      <td>0.166667</td>\n",
       "      <td>0</td>\n",
       "    </tr>\n",
       "    <tr>\n",
       "      <th>3439</th>\n",
       "      <td>1</td>\n",
       "      <td>0.415385</td>\n",
       "      <td>0.391139</td>\n",
       "      <td>0.000000</td>\n",
       "      <td>0</td>\n",
       "    </tr>\n",
       "    <tr>\n",
       "      <th>2658</th>\n",
       "      <td>1</td>\n",
       "      <td>0.707692</td>\n",
       "      <td>0.611392</td>\n",
       "      <td>0.166667</td>\n",
       "      <td>1</td>\n",
       "    </tr>\n",
       "    <tr>\n",
       "      <th>764</th>\n",
       "      <td>1</td>\n",
       "      <td>0.461538</td>\n",
       "      <td>0.532911</td>\n",
       "      <td>0.333333</td>\n",
       "      <td>0</td>\n",
       "    </tr>\n",
       "    <tr>\n",
       "      <th>2809</th>\n",
       "      <td>1</td>\n",
       "      <td>0.415385</td>\n",
       "      <td>0.467089</td>\n",
       "      <td>0.166667</td>\n",
       "      <td>0</td>\n",
       "    </tr>\n",
       "  </tbody>\n",
       "</table>\n",
       "</div>"
      ],
      "text/plain": [
       "      gender       age    income  family_members  insurance_benefits\n",
       "4738       1  0.369231  0.613924        0.166667                   0\n",
       "3439       1  0.415385  0.391139        0.000000                   0\n",
       "2658       1  0.707692  0.611392        0.166667                   1\n",
       "764        1  0.461538  0.532911        0.333333                   0\n",
       "2809       1  0.415385  0.467089        0.166667                   0"
      ]
     },
     "execution_count": 22,
     "metadata": {},
     "output_type": "execute_result"
    }
   ],
   "source": [
    "df_scaled.sample(5)"
   ]
  },
  {
   "cell_type": "markdown",
   "metadata": {},
   "source": [
    "This will be used only for the scaled combination data. As you can see, after scaling, all of the values are much closer to each other. This makes it easier for the model to work effectively, as the features are now on a similar scale."
   ]
  },
  {
   "cell_type": "markdown",
   "metadata": {},
   "source": [
    "Now, let's get similar records for a given one for every combination"
   ]
  },
  {
   "cell_type": "markdown",
   "metadata": {},
   "source": [
    "#### 1. No Scaling, Euclidean Distance"
   ]
  },
  {
   "cell_type": "code",
   "execution_count": 23,
   "metadata": {},
   "outputs": [
    {
     "data": {
      "text/html": [
       "<div>\n",
       "<style scoped>\n",
       "    .dataframe tbody tr th:only-of-type {\n",
       "        vertical-align: middle;\n",
       "    }\n",
       "\n",
       "    .dataframe tbody tr th {\n",
       "        vertical-align: top;\n",
       "    }\n",
       "\n",
       "    .dataframe thead th {\n",
       "        text-align: right;\n",
       "    }\n",
       "</style>\n",
       "<table border=\"1\" class=\"dataframe\">\n",
       "  <thead>\n",
       "    <tr style=\"text-align: right;\">\n",
       "      <th></th>\n",
       "      <th>gender</th>\n",
       "      <th>age</th>\n",
       "      <th>income</th>\n",
       "      <th>family_members</th>\n",
       "      <th>insurance_benefits</th>\n",
       "      <th>distance</th>\n",
       "    </tr>\n",
       "  </thead>\n",
       "  <tbody>\n",
       "    <tr>\n",
       "      <th>3247</th>\n",
       "      <td>1</td>\n",
       "      <td>26</td>\n",
       "      <td>36600.0</td>\n",
       "      <td>2</td>\n",
       "      <td>0</td>\n",
       "      <td>1.414214</td>\n",
       "    </tr>\n",
       "    <tr>\n",
       "      <th>4039</th>\n",
       "      <td>1</td>\n",
       "      <td>25</td>\n",
       "      <td>36600.0</td>\n",
       "      <td>2</td>\n",
       "      <td>0</td>\n",
       "      <td>1.000000</td>\n",
       "    </tr>\n",
       "    <tr>\n",
       "      <th>10</th>\n",
       "      <td>1</td>\n",
       "      <td>25</td>\n",
       "      <td>36600.0</td>\n",
       "      <td>1</td>\n",
       "      <td>0</td>\n",
       "      <td>0.000000</td>\n",
       "    </tr>\n",
       "    <tr>\n",
       "      <th>2037</th>\n",
       "      <td>1</td>\n",
       "      <td>26</td>\n",
       "      <td>36600.0</td>\n",
       "      <td>0</td>\n",
       "      <td>0</td>\n",
       "      <td>1.414214</td>\n",
       "    </tr>\n",
       "    <tr>\n",
       "      <th>1508</th>\n",
       "      <td>0</td>\n",
       "      <td>26</td>\n",
       "      <td>36600.0</td>\n",
       "      <td>0</td>\n",
       "      <td>0</td>\n",
       "      <td>1.414214</td>\n",
       "    </tr>\n",
       "  </tbody>\n",
       "</table>\n",
       "</div>"
      ],
      "text/plain": [
       "      gender  age   income  family_members  insurance_benefits  distance\n",
       "3247       1   26  36600.0               2                   0  1.414214\n",
       "4039       1   25  36600.0               2                   0  1.000000\n",
       "10         1   25  36600.0               1                   0  0.000000\n",
       "2037       1   26  36600.0               0                   0  1.414214\n",
       "1508       0   26  36600.0               0                   0  1.414214"
      ]
     },
     "execution_count": 23,
     "metadata": {},
     "output_type": "execute_result"
    }
   ],
   "source": [
    "n = 10\n",
    "k = 5\n",
    "metric = 'euclidean'\n",
    "\n",
    "df_res_no_scaling_euclidean = get_knn(df, n, k, metric)\n",
    "df_res_no_scaling_euclidean.sample(5)"
   ]
  },
  {
   "cell_type": "markdown",
   "metadata": {},
   "source": [
    "In this combination, the data has not been scaled, and the Euclidean distance metric is used to calculate the proximity between objects. The `distance` column shows the Euclidean distance between the selected object and its k nearest neighbors. Since the data is not scaled, some features may dominate others based on their magnitude, potentially skewing the distance calculation. This can lead to less meaningful comparisons in cases where features have vastly different ranges (e.g., age vs. income). The distances reflect how similar the objects are based on their raw feature values.\n",
    "\n",
    "Example distances:\n",
    "- Object 10 is closest to itself with a distance of `0.000000`.\n",
    "- Other objects have varying distances, with values such as `1.414214` or `1.000000`, indicating their proximity based on the Euclidean metric."
   ]
  },
  {
   "cell_type": "markdown",
   "metadata": {},
   "source": [
    "#### 2. Scaled Data (MaxAbsScaler), Euclidean Distance"
   ]
  },
  {
   "cell_type": "code",
   "execution_count": 24,
   "metadata": {},
   "outputs": [
    {
     "data": {
      "text/html": [
       "<div>\n",
       "<style scoped>\n",
       "    .dataframe tbody tr th:only-of-type {\n",
       "        vertical-align: middle;\n",
       "    }\n",
       "\n",
       "    .dataframe tbody tr th {\n",
       "        vertical-align: top;\n",
       "    }\n",
       "\n",
       "    .dataframe thead th {\n",
       "        text-align: right;\n",
       "    }\n",
       "</style>\n",
       "<table border=\"1\" class=\"dataframe\">\n",
       "  <thead>\n",
       "    <tr style=\"text-align: right;\">\n",
       "      <th></th>\n",
       "      <th>gender</th>\n",
       "      <th>age</th>\n",
       "      <th>income</th>\n",
       "      <th>family_members</th>\n",
       "      <th>insurance_benefits</th>\n",
       "      <th>distance</th>\n",
       "    </tr>\n",
       "  </thead>\n",
       "  <tbody>\n",
       "    <tr>\n",
       "      <th>10</th>\n",
       "      <td>1.0</td>\n",
       "      <td>0.384615</td>\n",
       "      <td>0.463291</td>\n",
       "      <td>0.166667</td>\n",
       "      <td>0</td>\n",
       "      <td>0.000000</td>\n",
       "    </tr>\n",
       "    <tr>\n",
       "      <th>4377</th>\n",
       "      <td>1.0</td>\n",
       "      <td>0.384615</td>\n",
       "      <td>0.473418</td>\n",
       "      <td>0.166667</td>\n",
       "      <td>0</td>\n",
       "      <td>0.010127</td>\n",
       "    </tr>\n",
       "    <tr>\n",
       "      <th>3670</th>\n",
       "      <td>0.0</td>\n",
       "      <td>0.384615</td>\n",
       "      <td>0.464557</td>\n",
       "      <td>0.166667</td>\n",
       "      <td>0</td>\n",
       "      <td>0.001266</td>\n",
       "    </tr>\n",
       "    <tr>\n",
       "      <th>3552</th>\n",
       "      <td>0.0</td>\n",
       "      <td>0.384615</td>\n",
       "      <td>0.470886</td>\n",
       "      <td>0.166667</td>\n",
       "      <td>0</td>\n",
       "      <td>0.007595</td>\n",
       "    </tr>\n",
       "    <tr>\n",
       "      <th>1437</th>\n",
       "      <td>0.0</td>\n",
       "      <td>0.384615</td>\n",
       "      <td>0.451899</td>\n",
       "      <td>0.166667</td>\n",
       "      <td>0</td>\n",
       "      <td>0.011392</td>\n",
       "    </tr>\n",
       "  </tbody>\n",
       "</table>\n",
       "</div>"
      ],
      "text/plain": [
       "      gender       age    income  family_members  insurance_benefits  distance\n",
       "10       1.0  0.384615  0.463291        0.166667                   0  0.000000\n",
       "4377     1.0  0.384615  0.473418        0.166667                   0  0.010127\n",
       "3670     0.0  0.384615  0.464557        0.166667                   0  0.001266\n",
       "3552     0.0  0.384615  0.470886        0.166667                   0  0.007595\n",
       "1437     0.0  0.384615  0.451899        0.166667                   0  0.011392"
      ]
     },
     "execution_count": 24,
     "metadata": {},
     "output_type": "execute_result"
    }
   ],
   "source": [
    "feature_names = ['gender', 'age', 'income', 'family_members']\n",
    "scaler = MaxAbsScaler()\n",
    "df_scaled = df.copy()\n",
    "df_scaled[feature_names] = scaler.fit_transform(df[feature_names])\n",
    "\n",
    "metric = 'euclidean'\n",
    "\n",
    "df_res_scaled_euclidean = get_knn(df_scaled, n, k, metric)\n",
    "df_res_scaled_euclidean.sample(5)"
   ]
  },
  {
   "cell_type": "markdown",
   "metadata": {},
   "source": [
    "In this combination, the data is scaled using the MaxAbsScaler, and the Euclidean distance metric is applied. Scaling ensures that all features have the same range, preventing any feature from dominating the distance calculation. As a result, the distances between objects are more evenly distributed, making the comparisons more meaningful. The `distance` column shows how similar each object is to its nearest neighbors based on the scaled features.\n",
    "\n",
    "Example distances:\n",
    "- Object 10 is closest to itself with a distance of `0.000000`.\n",
    "- The distances between other objects are small and similar, such as `0.010127` and `0.007595`, indicating that after scaling, the features are more comparable."
   ]
  },
  {
   "cell_type": "markdown",
   "metadata": {},
   "source": [
    "#### 3. No Scaling, Manhattan Distance"
   ]
  },
  {
   "cell_type": "code",
   "execution_count": 25,
   "metadata": {},
   "outputs": [
    {
     "data": {
      "text/html": [
       "<div>\n",
       "<style scoped>\n",
       "    .dataframe tbody tr th:only-of-type {\n",
       "        vertical-align: middle;\n",
       "    }\n",
       "\n",
       "    .dataframe tbody tr th {\n",
       "        vertical-align: top;\n",
       "    }\n",
       "\n",
       "    .dataframe thead th {\n",
       "        text-align: right;\n",
       "    }\n",
       "</style>\n",
       "<table border=\"1\" class=\"dataframe\">\n",
       "  <thead>\n",
       "    <tr style=\"text-align: right;\">\n",
       "      <th></th>\n",
       "      <th>gender</th>\n",
       "      <th>age</th>\n",
       "      <th>income</th>\n",
       "      <th>family_members</th>\n",
       "      <th>insurance_benefits</th>\n",
       "      <th>distance</th>\n",
       "    </tr>\n",
       "  </thead>\n",
       "  <tbody>\n",
       "    <tr>\n",
       "      <th>1508</th>\n",
       "      <td>0</td>\n",
       "      <td>26</td>\n",
       "      <td>36600.0</td>\n",
       "      <td>0</td>\n",
       "      <td>0</td>\n",
       "      <td>2.0</td>\n",
       "    </tr>\n",
       "    <tr>\n",
       "      <th>10</th>\n",
       "      <td>1</td>\n",
       "      <td>25</td>\n",
       "      <td>36600.0</td>\n",
       "      <td>1</td>\n",
       "      <td>0</td>\n",
       "      <td>0.0</td>\n",
       "    </tr>\n",
       "    <tr>\n",
       "      <th>2037</th>\n",
       "      <td>1</td>\n",
       "      <td>26</td>\n",
       "      <td>36600.0</td>\n",
       "      <td>0</td>\n",
       "      <td>0</td>\n",
       "      <td>2.0</td>\n",
       "    </tr>\n",
       "    <tr>\n",
       "      <th>3247</th>\n",
       "      <td>1</td>\n",
       "      <td>26</td>\n",
       "      <td>36600.0</td>\n",
       "      <td>2</td>\n",
       "      <td>0</td>\n",
       "      <td>2.0</td>\n",
       "    </tr>\n",
       "    <tr>\n",
       "      <th>4039</th>\n",
       "      <td>1</td>\n",
       "      <td>25</td>\n",
       "      <td>36600.0</td>\n",
       "      <td>2</td>\n",
       "      <td>0</td>\n",
       "      <td>1.0</td>\n",
       "    </tr>\n",
       "  </tbody>\n",
       "</table>\n",
       "</div>"
      ],
      "text/plain": [
       "      gender  age   income  family_members  insurance_benefits  distance\n",
       "1508       0   26  36600.0               0                   0       2.0\n",
       "10         1   25  36600.0               1                   0       0.0\n",
       "2037       1   26  36600.0               0                   0       2.0\n",
       "3247       1   26  36600.0               2                   0       2.0\n",
       "4039       1   25  36600.0               2                   0       1.0"
      ]
     },
     "execution_count": 25,
     "metadata": {},
     "output_type": "execute_result"
    }
   ],
   "source": [
    "metric = 'manhattan'\n",
    "\n",
    "df_res_no_scaling_manhattan = get_knn(df, n, k, metric)\n",
    "df_res_no_scaling_manhattan.sample(5)"
   ]
  },
  {
   "cell_type": "markdown",
   "metadata": {},
   "source": [
    "In this combination, no scaling is applied, and the Manhattan distance metric is used. The absence of scaling means that the features are not normalized, which can lead to features with larger numerical ranges dominating the distance calculation. As a result, the distance values are generally higher, and the differences between the objects are more noticeable. The `distance` column reflects this by showing higher values like `2.0` and `1.0`.\n",
    "\n",
    "Example distances:\n",
    "- Object 10 is closest to itself with a distance of `0.0`.\n",
    "- Other objects, like `1508` and `2037`, have distances of `2.0`, which indicates that their feature values differ more significantly due to the lack of scaling."
   ]
  },
  {
   "cell_type": "markdown",
   "metadata": {},
   "source": [
    "#### 4. Scaled Data (MaxAbsScaler), Manhattan Distance"
   ]
  },
  {
   "cell_type": "code",
   "execution_count": 26,
   "metadata": {},
   "outputs": [
    {
     "data": {
      "text/html": [
       "<div>\n",
       "<style scoped>\n",
       "    .dataframe tbody tr th:only-of-type {\n",
       "        vertical-align: middle;\n",
       "    }\n",
       "\n",
       "    .dataframe tbody tr th {\n",
       "        vertical-align: top;\n",
       "    }\n",
       "\n",
       "    .dataframe thead th {\n",
       "        text-align: right;\n",
       "    }\n",
       "</style>\n",
       "<table border=\"1\" class=\"dataframe\">\n",
       "  <thead>\n",
       "    <tr style=\"text-align: right;\">\n",
       "      <th></th>\n",
       "      <th>gender</th>\n",
       "      <th>age</th>\n",
       "      <th>income</th>\n",
       "      <th>family_members</th>\n",
       "      <th>insurance_benefits</th>\n",
       "      <th>distance</th>\n",
       "    </tr>\n",
       "  </thead>\n",
       "  <tbody>\n",
       "    <tr>\n",
       "      <th>3552</th>\n",
       "      <td>0.0</td>\n",
       "      <td>0.384615</td>\n",
       "      <td>0.470886</td>\n",
       "      <td>0.166667</td>\n",
       "      <td>0</td>\n",
       "      <td>0.007595</td>\n",
       "    </tr>\n",
       "    <tr>\n",
       "      <th>3670</th>\n",
       "      <td>0.0</td>\n",
       "      <td>0.384615</td>\n",
       "      <td>0.464557</td>\n",
       "      <td>0.166667</td>\n",
       "      <td>0</td>\n",
       "      <td>0.001266</td>\n",
       "    </tr>\n",
       "    <tr>\n",
       "      <th>10</th>\n",
       "      <td>1.0</td>\n",
       "      <td>0.384615</td>\n",
       "      <td>0.463291</td>\n",
       "      <td>0.166667</td>\n",
       "      <td>0</td>\n",
       "      <td>0.000000</td>\n",
       "    </tr>\n",
       "    <tr>\n",
       "      <th>1437</th>\n",
       "      <td>0.0</td>\n",
       "      <td>0.384615</td>\n",
       "      <td>0.451899</td>\n",
       "      <td>0.166667</td>\n",
       "      <td>0</td>\n",
       "      <td>0.011392</td>\n",
       "    </tr>\n",
       "    <tr>\n",
       "      <th>4377</th>\n",
       "      <td>1.0</td>\n",
       "      <td>0.384615</td>\n",
       "      <td>0.473418</td>\n",
       "      <td>0.166667</td>\n",
       "      <td>0</td>\n",
       "      <td>0.010127</td>\n",
       "    </tr>\n",
       "  </tbody>\n",
       "</table>\n",
       "</div>"
      ],
      "text/plain": [
       "      gender       age    income  family_members  insurance_benefits  distance\n",
       "3552     0.0  0.384615  0.470886        0.166667                   0  0.007595\n",
       "3670     0.0  0.384615  0.464557        0.166667                   0  0.001266\n",
       "10       1.0  0.384615  0.463291        0.166667                   0  0.000000\n",
       "1437     0.0  0.384615  0.451899        0.166667                   0  0.011392\n",
       "4377     1.0  0.384615  0.473418        0.166667                   0  0.010127"
      ]
     },
     "execution_count": 26,
     "metadata": {},
     "output_type": "execute_result"
    }
   ],
   "source": [
    "metric = 'manhattan'\n",
    "\n",
    "df_res_scaled_manhattan = get_knn(df_scaled, n, k, metric)\n",
    "df_res_scaled_manhattan.sample(5)"
   ]
  },
  {
   "cell_type": "markdown",
   "metadata": {},
   "source": [
    "In this combination, the data is scaled using the MaxAbsScaler, and the Manhattan distance metric is used. Scaling the data with MaxAbsScaler normalizes the features, making them fall within a similar range, which helps reduce the influence of large values. This results in lower and more uniform distance values across objects. The distances are small, with the closest neighbors having values around `0.000000` to `0.011392`.\n",
    "\n",
    "Example distances:\n",
    "- Object 10 is closest to itself with a distance of `0.000000`.\n",
    "- Objects like `3552` and `3670` have small distances, such as `0.007595` and `0.001266`, indicating that their scaled feature values are quite similar."
   ]
  },
  {
   "cell_type": "markdown",
   "metadata": {},
   "source": [
    "#### Answers to the questions"
   ]
  },
  {
   "cell_type": "markdown",
   "metadata": {},
   "source": [
    "---\n",
    "\n",
    "**Does the data being not scaled affect the kNN algorithm? If so, how does that appear?** \n",
    "\n",
    "Yes, the data being not scaled does affect the kNN algorithm. When the data is not scaled, the distance values can be significantly larger because features with larger numeric ranges, like \"income\" or \"family_members\", dominate the distance calculation. This leads to less meaningful distances between objects. For example, the distances in the \"No Scaling, Euclidean Distance\" scenario range from `0.000000` to `1.414214`, showing more variation. \n",
    "\n",
    "However, when the data is scaled using the MaxAbsScaler, the values fall within a similar range, making the distances more comparable. In the \"Scaled Data (MaxAbsScaler), Euclidean Distance\" scenario, the distances are much smaller, ranging from `0.000000` to `0.011392`, indicating that scaling has a significant effect in reducing the impact of \n",
    "large feature values and making the model's results more consistent and comparable.\n",
    "\n",
    "---\n",
    "\n",
    "**How similar are the results using the Manhattan distance metric (regardless of the scaling)?** \n",
    "\n",
    "The results using the Manhattan distance metric are relatively similar regardless of whether the data is scaled or not. The distances in both \"No Scaling, Manhattan Distance\" and \"Scaled Data (MaxAbsScaler), Manhattan Distance\" show values that are in the same general range, with distances from `0.0` to `2.0` for non-scaled data and `0.0` to `0.011392` for scaled data. \n",
    "\n",
    "This similarity occurs because the Manhattan distance metric calculates the sum of absolute differences across all features. While scaling reduces the impact of larger feature values, the relative ordering of distances remains similar. Therefore, even with scaling, the overall pattern of distances using the Manhattan metric stays consistent, though the values themselves are smaller when the data is scaled.\n",
    "\n",
    "---"
   ]
  },
  {
   "cell_type": "markdown",
   "metadata": {},
   "source": [
    "# Task 2. Is Customer Likely to Receive Insurance Benefit?"
   ]
  },
  {
   "cell_type": "markdown",
   "metadata": {},
   "source": [
    "I will evaluate whether the kNN classification approach performs better than a dummy model with the target variable being `insurance_benefits` greater than zero.\n",
    "\n",
    "Steps:\n",
    "1. I will build a kNN-based classifier and evaluate its performance using the F1 score for `k=1..10`. This will be done on both the original data and the scaled data, allowing me to compare how the value of `k` and scaling affect the evaluation metric.\n",
    "2. I will also create a dummy model that returns \"1\" with some probability. The probabilities to test are:\n",
    "   - 0 (no probability of receiving insurance benefits)\n",
    "   - The probability of receiving any insurance benefit (calculated as the number of clients who received insurance benefits divided by the total number of clients)\n",
    "   - 0.5 (equal probability of receiving or not receiving benefits)\n",
    "   - 1 (100% probability of receiving insurance benefits)\n",
    "\n",
    "I will split the data into training and testing sets with a 70:30 ratio."
   ]
  },
  {
   "cell_type": "code",
   "execution_count": 27,
   "metadata": {},
   "outputs": [],
   "source": [
    "df['insurance_benefits_received'] = (df['insurance_benefits'] > 0).astype(int)"
   ]
  },
  {
   "cell_type": "code",
   "execution_count": 28,
   "metadata": {},
   "outputs": [
    {
     "data": {
      "text/plain": [
       "insurance_benefits_received\n",
       "0    4436\n",
       "1     564\n",
       "Name: count, dtype: int64"
      ]
     },
     "execution_count": 28,
     "metadata": {},
     "output_type": "execute_result"
    }
   ],
   "source": [
    "df['insurance_benefits_received'].value_counts()"
   ]
  },
  {
   "cell_type": "markdown",
   "metadata": {},
   "source": [
    "The data shows a significant class imbalance, with 4,436 clients not receiving insurance benefits and only 564 receiving them. This skew could lead to biased predictions, where models might favor predicting the majority class (no benefits)."
   ]
  },
  {
   "cell_type": "code",
   "execution_count": 29,
   "metadata": {},
   "outputs": [],
   "source": [
    "def eval_classifier(y_true, y_pred):\n",
    "    f1 = sklearn.metrics.f1_score(y_true, y_pred)\n",
    "    print(f'F1: {f1:.2f}')\n",
    "    \n",
    "    cm = sklearn.metrics.confusion_matrix(y_true, y_pred, normalize='all')\n",
    "    print('Confusion Matrix')\n",
    "    print(cm)"
   ]
  },
  {
   "cell_type": "markdown",
   "metadata": {},
   "source": [
    "This function `eval_classifier` evaluates the performance of a classification model by calculating the F1 score and displaying the confusion matrix.\n",
    "\n",
    "- `f1_score`: It calculates the F1 score, which is the harmonic mean of precision and recall. It gives a single value representing the balance between the two.\n",
    "- `confusion_matrix`: It generates the confusion matrix, which shows the performance of the classification model by comparing the true labels (`y_true`) with the predicted labels (`y_pred`). The matrix is normalized to display proportions.\n",
    "\n",
    "The function prints:\n",
    "1. The F1 score rounded to two decimal places.\n",
    "2. The normalized confusion matrix."
   ]
  },
  {
   "cell_type": "code",
   "execution_count": 30,
   "metadata": {},
   "outputs": [],
   "source": [
    "def rnd_model_predict(P, size, seed=42):\n",
    "    rng = np.random.default_rng(seed=seed)\n",
    "    return rng.binomial(n=1, p=P, size=size)"
   ]
  },
  {
   "cell_type": "markdown",
   "metadata": {},
   "source": [
    "This function `rnd_model_predict` generates random predictions based on a given probability.\n",
    "\n",
    "- `P`: The probability of predicting the positive class (1).\n",
    "- `size`: The number of predictions to generate.\n",
    "- `seed`: An optional random seed for reproducibility (default is 42).\n",
    "\n",
    "The function uses `numpy`'s `binomial` distribution to generate `size` number of random binary predictions (0 or 1) with a success probability `P`. It returns an array of 1's and 0's based on the given probability."
   ]
  },
  {
   "cell_type": "code",
   "execution_count": 33,
   "metadata": {},
   "outputs": [],
   "source": [
    "X = df.drop(['insurance_benefits', 'insurance_benefits_received'], axis=1)\n",
    "y = df['insurance_benefits_received']\n",
    "\n",
    "X_train, X_test, y_train, y_test = train_test_split(X, y, test_size=0.3, random_state=42)\n",
    "\n",
    "scaler = MaxAbsScaler()\n",
    "X_train_scaled = scaler.fit_transform(X_train)\n",
    "X_test_scaled = scaler.transform(X_test)"
   ]
  },
  {
   "cell_type": "code",
   "execution_count": 34,
   "metadata": {},
   "outputs": [
    {
     "name": "stdout",
     "output_type": "stream",
     "text": [
      "\n",
      "Evaluating Dummy Model\n",
      "Testing Dummy Model with P=0.00\n",
      "F1: 0.00\n",
      "Confusion Matrix\n",
      "[[0.89266667 0.        ]\n",
      " [0.10733333 0.        ]]\n",
      "\n",
      "Testing Dummy Model with P=0.12\n",
      "F1: 0.17\n",
      "Confusion Matrix\n",
      "[[0.79266667 0.1       ]\n",
      " [0.08866667 0.01866667]]\n",
      "\n",
      "Testing Dummy Model with P=0.50\n",
      "F1: 0.20\n",
      "Confusion Matrix\n",
      "[[0.45733333 0.43533333]\n",
      " [0.048      0.05933333]]\n",
      "\n",
      "Testing Dummy Model with P=1.00\n",
      "F1: 0.19\n",
      "Confusion Matrix\n",
      "[[0.         0.89266667]\n",
      " [0.         0.10733333]]\n",
      "\n"
     ]
    }
   ],
   "source": [
    "P_insurance_benefit = y_train.mean()\n",
    "\n",
    "probabilities = [0, P_insurance_benefit, 0.5, 1]\n",
    "\n",
    "print(\"\\nEvaluating Dummy Model\")\n",
    "for prob in probabilities:\n",
    "    print(f\"Testing Dummy Model with P={prob:.2f}\")\n",
    "    \n",
    "    y_dummy_pred = rnd_model_predict(prob, size=len(y_test))\n",
    "    \n",
    "    eval_classifier(y_test, y_dummy_pred)\n",
    "    print()"
   ]
  },
  {
   "cell_type": "markdown",
   "metadata": {},
   "source": [
    "The results from testing the dummy model at different probabilities (`P`) show the following behavior:\n",
    "\n",
    "1. **P = 0.00** (Always predicts 0):\n",
    "   - **F1 Score**: 0.00, indicating the model is ineffective in predicting the positive class (1).\n",
    "   - **Confusion Matrix**: \n",
    "     - 89.27% of the predictions are correct negative predictions (True Negatives).\n",
    "     - 10.73% of the actual positives are missed (False Negatives).\n",
    "     - The model fails to predict any positive outcomes (False Positives = 0).\n",
    "   \n",
    "2. **P = 0.12** (Predicts 1 with 12% probability):\n",
    "   - **F1 Score**: 0.17, indicating a slight improvement over P = 0.00.\n",
    "   - **Confusion Matrix**: \n",
    "     - 79.27% are correct negative predictions.\n",
    "     - 10.87% are False Negatives, and 1.87% are False Positives.\n",
    "     - The model now predicts some positive outcomes but still not enough to perform well.\n",
    "\n",
    "3. **P = 0.50** (Predicts 1 with 50% probability):\n",
    "   - **F1 Score**: 0.20, showing a small improvement over P = 0.12.\n",
    "   - **Confusion Matrix**:\n",
    "     - 45.73% are correct negative predictions.\n",
    "     - 43.53% are False Positives, and 5.83% are False Negatives.\n",
    "     - The model now starts making a balanced number of predictions for both 0 and 1, but still performs poorly.\n",
    "\n",
    "4. **P = 1.00** (Always predicts 1):\n",
    "   - **F1 Score**: 0.19, which is slightly worse than when `P=0.50`.\n",
    "   - **Confusion Matrix**: \n",
    "     - The model predicts all positive (1) results, but fails to predict any 0's correctly.\n",
    "     - 89.27% are False Positives, and 10.73% are True Positives.\n",
    "     - The model has a high number of False Positives because it always predicts 1, making it unreliable.\n",
    "\n",
    "The dummy model's performance depends heavily on the probability (`P`). At extreme values of `P` (0.00 and 1.00), the F1 score is very low because the model either only predicts one class or fails to predict the positive class entirely. As `P` approaches 0.50, the model becomes more balanced, but it still struggles to provide meaningful results compared to a real classifier."
   ]
  },
  {
   "cell_type": "code",
   "execution_count": 35,
   "metadata": {},
   "outputs": [
    {
     "name": "stdout",
     "output_type": "stream",
     "text": [
      "\n",
      "Evaluating kNN with Original Data\n",
      "Evaluating kNN with k=1\n",
      "F1: 0.65\n",
      "Confusion Matrix\n",
      "[[0.874      0.01866667]\n",
      " [0.04666667 0.06066667]]\n",
      "\n",
      "Evaluating kNN with k=2\n",
      "F1: 0.38\n",
      "Confusion Matrix\n",
      "[[0.89066667 0.002     ]\n",
      " [0.082      0.02533333]]\n",
      "\n",
      "Evaluating kNN with k=3\n",
      "F1: 0.39\n",
      "Confusion Matrix\n",
      "[[0.88266667 0.01      ]\n",
      " [0.07933333 0.028     ]]\n",
      "\n",
      "Evaluating kNN with k=4\n",
      "F1: 0.16\n",
      "Confusion Matrix\n",
      "[[0.88933333 0.00333333]\n",
      " [0.098      0.00933333]]\n",
      "\n",
      "Evaluating kNN with k=5\n",
      "F1: 0.17\n",
      "Confusion Matrix\n",
      "[[0.884      0.00866667]\n",
      " [0.09666667 0.01066667]]\n",
      "\n",
      "Evaluating kNN with k=6\n",
      "F1: 0.09\n",
      "Confusion Matrix\n",
      "[[8.92000000e-01 6.66666667e-04]\n",
      " [1.02000000e-01 5.33333333e-03]]\n",
      "\n",
      "Evaluating kNN with k=7\n",
      "F1: 0.10\n",
      "Confusion Matrix\n",
      "[[0.89133333 0.00133333]\n",
      " [0.10133333 0.006     ]]\n",
      "\n",
      "Evaluating kNN with k=8\n",
      "F1: 0.02\n",
      "Confusion Matrix\n",
      "[[0.89266667 0.        ]\n",
      " [0.106      0.00133333]]\n",
      "\n",
      "Evaluating kNN with k=9\n",
      "F1: 0.04\n",
      "Confusion Matrix\n",
      "[[0.89266667 0.        ]\n",
      " [0.10533333 0.002     ]]\n",
      "\n",
      "Evaluating kNN with k=10\n",
      "F1: 0.04\n",
      "Confusion Matrix\n",
      "[[0.89266667 0.        ]\n",
      " [0.10533333 0.002     ]]\n",
      "\n",
      "\n",
      "Evaluating kNN with Scaled Data\n",
      "Evaluating kNN with k=1\n",
      "F1: 0.93\n",
      "Confusion Matrix\n",
      "[[0.888      0.00466667]\n",
      " [0.00933333 0.098     ]]\n",
      "\n",
      "Evaluating kNN with k=2\n",
      "F1: 0.91\n",
      "Confusion Matrix\n",
      "[[0.89       0.00266667]\n",
      " [0.01466667 0.09266667]]\n",
      "\n",
      "Evaluating kNN with k=3\n",
      "F1: 0.94\n",
      "Confusion Matrix\n",
      "[[0.88933333 0.00333333]\n",
      " [0.00866667 0.09866667]]\n",
      "\n",
      "Evaluating kNN with k=4\n",
      "F1: 0.92\n",
      "Confusion Matrix\n",
      "[[0.89133333 0.00133333]\n",
      " [0.01466667 0.09266667]]\n",
      "\n",
      "Evaluating kNN with k=5\n",
      "F1: 0.95\n",
      "Confusion Matrix\n",
      "[[0.89       0.00266667]\n",
      " [0.00866667 0.09866667]]\n",
      "\n",
      "Evaluating kNN with k=6\n",
      "F1: 0.92\n",
      "Confusion Matrix\n",
      "[[0.89133333 0.00133333]\n",
      " [0.01533333 0.092     ]]\n",
      "\n",
      "Evaluating kNN with k=7\n",
      "F1: 0.93\n",
      "Confusion Matrix\n",
      "[[0.89       0.00266667]\n",
      " [0.01133333 0.096     ]]\n",
      "\n",
      "Evaluating kNN with k=8\n",
      "F1: 0.92\n",
      "Confusion Matrix\n",
      "[[0.89266667 0.        ]\n",
      " [0.01533333 0.092     ]]\n",
      "\n",
      "Evaluating kNN with k=9\n",
      "F1: 0.93\n",
      "Confusion Matrix\n",
      "[[0.89133333 0.00133333]\n",
      " [0.012      0.09533333]]\n",
      "\n",
      "Evaluating kNN with k=10\n",
      "F1: 0.92\n",
      "Confusion Matrix\n",
      "[[8.92000000e-01 6.66666667e-04]\n",
      " [1.53333333e-02 9.20000000e-02]]\n",
      "\n"
     ]
    }
   ],
   "source": [
    "for data_type, (train_data, test_data) in [('Original', (X_train, X_test)), ('Scaled', (X_train_scaled, X_test_scaled))]:\n",
    "    print(f'\\nEvaluating kNN with {data_type} Data')\n",
    "    \n",
    "    for k in range(1, 11):\n",
    "        print(f'Evaluating kNN with k={k}')\n",
    "        \n",
    "        knn = KNeighborsClassifier(n_neighbors=k)\n",
    "        knn.fit(train_data, y_train)\n",
    "        \n",
    "        y_pred = knn.predict(test_data)\n",
    "        \n",
    "        eval_classifier(y_test, y_pred)\n",
    "        print()"
   ]
  },
  {
   "cell_type": "markdown",
   "metadata": {},
   "source": [
    "Evaluating kNN with Original Data:\n",
    "- For k=1, the F1 score is 0.65, showing a good initial performance, but it drops as k increases.\n",
    "- As k increases, the F1 score decreases significantly, with the model performing poorly for k>=6. The confusion matrix shows that false positives and false negatives increase as k grows.\n",
    "\n",
    "Evaluating kNN with Scaled Data:\n",
    "- The performance drastically improves after scaling the data, with the F1 score consistently above 0.90 across all values of k.\n",
    "- The confusion matrix indicates that the model is better at predicting the positive class (insurance benefits) with lower false negatives, especially as k increases. The results show that scaling the data helps the kNN algorithm perform much better in classifying the target variable."
   ]
  },
  {
   "cell_type": "markdown",
   "metadata": {},
   "source": [
    "# Task 3. Regression (with Linear Regression)"
   ]
  },
  {
   "cell_type": "markdown",
   "metadata": {},
   "source": [
    "With `insurance_benefits` as the target, I'll evaluate what RMSE would be for a Linear Regression model."
   ]
  },
  {
   "cell_type": "markdown",
   "metadata": {},
   "source": [
    "I will use Linear Regression, and change it up by recalling how the solution is formulated in terms of linear algebra. I will check the RMSE (Root Mean Squared Error) for both the original and scaled data. The aim is to see if there is any difference in RMSE between these two cases.\n",
    "\n",
    "Let me define:\n",
    "- $X$ — the feature matrix, where each row is a case, each column is a feature, and the first column consists of ones.\n",
    "- $y$ — the target (a vector).\n",
    "- $\\hat{y}$ — the estimated target (a vector).\n",
    "- $w$ — the weight vector.\n",
    "\n",
    "The linear regression task in matrix notation is formulated as:\n",
    "\n",
    "$$\n",
    "y = Xw\n",
    "$$\n",
    "\n",
    "The objective is to find the weight vector $w$ that minimizes the L2 distance (MSE) between $Xw$ and $y$:\n",
    "\n",
    "$$\n",
    "\\min_w d_2(Xw, y) \\quad \\text{or} \\quad \\min_w \\text{MSE}(Xw, y)\n",
    "$$\n",
    "\n",
    "The analytical solution to this problem is:\n",
    "\n",
    "$$\n",
    "w = (X^T X)^{-1} X^T y\n",
    "$$\n",
    "\n",
    "Once I have the weight vector $w$, I can use it to calculate the predicted values:\n",
    "\n",
    "$$\n",
    "\\hat{y} = X_{val}w\n",
    "$$\n"
   ]
  },
  {
   "cell_type": "markdown",
   "metadata": {},
   "source": [
    "Split the whole data in the 70:30 proportion for the training/validation parts. Use the RMSE metric for the model evaluation."
   ]
  },
  {
   "cell_type": "code",
   "execution_count": 38,
   "metadata": {},
   "outputs": [],
   "source": [
    "class MyLinearRegression:\n",
    "    \n",
    "    def __init__(self):\n",
    "        self.weights = None\n",
    "    \n",
    "    def fit(self, X, y):\n",
    "        X2 = np.append(np.ones([len(X), 1]), X, axis=1)\n",
    "        \n",
    "        self.weights = np.linalg.inv(X2.T @ X2) @ X2.T @ y\n",
    "\n",
    "    def predict(self, X):\n",
    "        X2 = np.append(np.ones([len(X), 1]), X, axis=1)\n",
    "        \n",
    "        y_pred = X2 @ self.weights\n",
    "        \n",
    "        return y_pred"
   ]
  },
  {
   "cell_type": "code",
   "execution_count": 39,
   "metadata": {},
   "outputs": [],
   "source": [
    "def eval_regressor(y_true, y_pred):\n",
    "    \n",
    "    rmse = math.sqrt(sklearn.metrics.mean_squared_error(y_true, y_pred))\n",
    "    print(f'RMSE: {rmse:.2f}')\n",
    "    \n",
    "    r2_score = sklearn.metrics.r2_score(y_true, y_pred)\n",
    "    print(f'R2: {r2_score:.2f}')"
   ]
  },
  {
   "cell_type": "code",
   "execution_count": 40,
   "metadata": {},
   "outputs": [
    {
     "name": "stdout",
     "output_type": "stream",
     "text": [
      "Case 1: Original Data\n",
      "RMSE: 0.23\n",
      "R2: 0.43\n",
      "\n",
      "Case 2: Scaled Data\n",
      "RMSE: 0.23\n",
      "R2: 0.43\n"
     ]
    }
   ],
   "source": [
    "print(\"Case 1: Original Data\")\n",
    "lr = MyLinearRegression()\n",
    "lr.fit(X_train, y_train)\n",
    "y_test_pred = lr.predict(X_test)\n",
    "eval_regressor(y_test, y_test_pred)\n",
    "\n",
    "scaler = MaxAbsScaler()\n",
    "X_train_scaled = scaler.fit_transform(X_train) \n",
    "X_test_scaled = scaler.transform(X_test)\n",
    "\n",
    "print(\"\\nCase 2: Scaled Data\")\n",
    "lr_scaled = MyLinearRegression()\n",
    "lr_scaled.fit(X_train_scaled, y_train)\n",
    "y_test_pred_scaled = lr_scaled.predict(X_test_scaled)\n",
    "eval_regressor(y_test, y_test_pred_scaled)"
   ]
  },
  {
   "cell_type": "markdown",
   "metadata": {},
   "source": [
    "The model's weights indicate that the intercept is negative, suggesting a low baseline for insurance benefits when all other features are at their minimum values. Age has a small positive impact, gender has a minor positive effect, and family members contribute minimally to the prediction. \n",
    "\n",
    "When comparing the results for both the original and scaled data, the RMSE remains consistent at 0.23, and the \\( R^2 \\) score is 0.43 for both cases. This suggests that scaling the data does not lead to a significant improvement in the model's predictive accuracy or its ability to explain the variance in insurance benefits."
   ]
  },
  {
   "cell_type": "markdown",
   "metadata": {},
   "source": [
    "# Task 4. Obfuscating Data"
   ]
  },
  {
   "cell_type": "markdown",
   "metadata": {},
   "source": [
    "I will obfuscate the data by multiplying the numerical features (which can be considered as the matrix \\( X \\)) by an invertible matrix \\( P \\).\n",
    "\n",
    "$$\n",
    "X' = X \\times P\n",
    "$$\n",
    "\n",
    "I will perform this transformation and examine how the feature values change afterward. It's important to ensure that \\( P \\) is invertible, as this property is crucial for the transformation.\n",
    "\n",
    "I will also review the 'Matrices and Matrix Operations -> Matrix Multiplication' lesson to refresh my memory on the rules of matrix multiplication and how to implement it using NumPy."
   ]
  },
  {
   "cell_type": "code",
   "execution_count": 41,
   "metadata": {},
   "outputs": [],
   "source": [
    "personal_info_column_list = ['gender', 'age', 'income', 'family_members']\n",
    "df_pn = df[personal_info_column_list]"
   ]
  },
  {
   "cell_type": "code",
   "execution_count": 42,
   "metadata": {},
   "outputs": [],
   "source": [
    "X = df_pn.to_numpy()"
   ]
  },
  {
   "cell_type": "markdown",
   "metadata": {},
   "source": [
    "Generating a random matrix $P$."
   ]
  },
  {
   "cell_type": "code",
   "execution_count": 43,
   "metadata": {},
   "outputs": [],
   "source": [
    "rng = np.random.default_rng(seed=42)\n",
    "P = rng.random(size=(X.shape[1], X.shape[1]))"
   ]
  },
  {
   "cell_type": "markdown",
   "metadata": {},
   "source": [
    "Checking the matrix $P$ is invertible"
   ]
  },
  {
   "cell_type": "code",
   "execution_count": 44,
   "metadata": {},
   "outputs": [
    {
     "name": "stdout",
     "output_type": "stream",
     "text": [
      "Is P invertible? True\n"
     ]
    }
   ],
   "source": [
    "is_invertible = np.linalg.det(P) != 0\n",
    "print(f'Is P invertible? {is_invertible}')"
   ]
  },
  {
   "cell_type": "markdown",
   "metadata": {},
   "source": [
    "Can you guess the customers' ages or income after the transformation?"
   ]
  },
  {
   "cell_type": "code",
   "execution_count": 45,
   "metadata": {},
   "outputs": [
    {
     "name": "stdout",
     "output_type": "stream",
     "text": [
      "Transformed Data (X'):\n",
      "[[ 6359.71527314 22380.40467609 18424.09074184 46000.69669016]\n",
      " [ 4873.29406479 17160.36702982 14125.78076133 35253.45577301]\n",
      " [ 2693.11742928  9486.397744    7808.83156024 19484.86063067]\n",
      " ...\n",
      " [ 4346.2234249  15289.24126492 12586.16264392 31433.50888552]\n",
      " [ 4194.09324155 14751.9910242  12144.02930637 30323.88763426]\n",
      " [ 5205.46827354 18314.24814446 15077.01370762 37649.59295455]]\n",
      "\n",
      "Original Data (first 5 rows):\n",
      "[[1.00e+00 4.10e+01 4.96e+04 1.00e+00]\n",
      " [0.00e+00 4.60e+01 3.80e+04 1.00e+00]\n",
      " [0.00e+00 2.90e+01 2.10e+04 0.00e+00]\n",
      " [0.00e+00 2.10e+01 4.17e+04 2.00e+00]\n",
      " [1.00e+00 2.80e+01 2.61e+04 0.00e+00]]\n",
      "\n",
      "Transformed Data (first 5 rows):\n",
      "[[ 6359.71527314 22380.40467609 18424.09074184 46000.69669016]\n",
      " [ 4873.29406479 17160.36702982 14125.78076133 35253.45577301]\n",
      " [ 2693.11742928  9486.397744    7808.83156024 19484.86063067]\n",
      " [ 5345.60393712 18803.22720286 15479.14837264 38663.06186284]\n",
      " [ 3347.17673462 11782.82928336  9699.99894205 24211.27337753]]\n"
     ]
    }
   ],
   "source": [
    "X_prime = X @ P\n",
    "\n",
    "print(\"Transformed Data (X'):\")\n",
    "print(X_prime)\n",
    "\n",
    "print(\"\\nOriginal Data (first 5 rows):\")\n",
    "print(X[:5])\n",
    "\n",
    "print(\"\\nTransformed Data (first 5 rows):\")\n",
    "print(X_prime[:5])"
   ]
  },
  {
   "cell_type": "markdown",
   "metadata": {},
   "source": [
    "Now, you can't guess the customer's age or income after the transformation.\n",
    "\n",
    "After the transformation, the data has been altered by multiplying the original numerical features (like age and income) with an invertible matrix \\( P \\). The transformed values are no longer directly comparable to the original ones, as the matrix multiplication creates new values that don't reflect the original features in their usual scale. For instance, the transformed customer ages and incomes are significantly higher and have different proportions, making it impossible to directly deduce the original values from the transformed data. This transformation obfuscates the data, ensuring that it can't be easily reverse-engineered.\n",
    "\n",
    "While the original values can still be recovered (since \\( P \\) is invertible), the transformed data does not offer a straightforward or interpretable way to retrieve them."
   ]
  },
  {
   "cell_type": "markdown",
   "metadata": {},
   "source": [
    "Can you recover the original data from $X'$ if you know $P$? Try to check that with calculations by moving $P$ from the right side of the formula above to the left one. The rules of matrix multiplcation are really helpful here."
   ]
  },
  {
   "cell_type": "code",
   "execution_count": 46,
   "metadata": {},
   "outputs": [],
   "source": [
    "X_recovered = X_prime @ np.linalg.inv(P)"
   ]
  },
  {
   "cell_type": "markdown",
   "metadata": {},
   "source": [
    "Print all three cases for a few customers\n",
    "- The original data\n",
    "- The transformed one\n",
    "- The reversed (recovered) one"
   ]
  },
  {
   "cell_type": "code",
   "execution_count": 48,
   "metadata": {},
   "outputs": [
    {
     "name": "stdout",
     "output_type": "stream",
     "text": [
      "Original Data (first 5 rows):\n",
      "[[1.00e+00 4.10e+01 4.96e+04 1.00e+00]\n",
      " [0.00e+00 4.60e+01 3.80e+04 1.00e+00]\n",
      " [0.00e+00 2.90e+01 2.10e+04 0.00e+00]\n",
      " [0.00e+00 2.10e+01 4.17e+04 2.00e+00]\n",
      " [1.00e+00 2.80e+01 2.61e+04 0.00e+00]]\n",
      "\n",
      "Transformed Data (first 5 rows):\n",
      "[[ 6359.71527314 22380.40467609 18424.09074184 46000.69669016]\n",
      " [ 4873.29406479 17160.36702982 14125.78076133 35253.45577301]\n",
      " [ 2693.11742928  9486.397744    7808.83156024 19484.86063067]\n",
      " [ 5345.60393712 18803.22720286 15479.14837264 38663.06186284]\n",
      " [ 3347.17673462 11782.82928336  9699.99894205 24211.27337753]]\n",
      "\n",
      "Recovered Data (first 5 rows):\n",
      "[[ 1.00000000e+00  4.10000000e+01  4.96000000e+04  1.00000000e+00]\n",
      " [ 1.64503537e-12  4.60000000e+01  3.80000000e+04  1.00000000e+00]\n",
      " [ 9.25561194e-13  2.90000000e+01  2.10000000e+04  1.41940791e-12]\n",
      " [-1.62563547e-12  2.10000000e+01  4.17000000e+04  2.00000000e+00]\n",
      " [ 1.00000000e+00  2.80000000e+01  2.61000000e+04  4.91751442e-13]]\n"
     ]
    }
   ],
   "source": [
    "print(\"Original Data (first 5 rows):\")\n",
    "print(X[:5])\n",
    "\n",
    "print(\"\\nTransformed Data (first 5 rows):\")\n",
    "print(X_prime[:5])\n",
    "\n",
    "print(\"\\nRecovered Data (first 5 rows):\")\n",
    "print(X_recovered[:5])"
   ]
  },
  {
   "cell_type": "markdown",
   "metadata": {},
   "source": [
    "You can probably see that some values are not exactly the same as they are in the original data. What might be the reason for that?"
   ]
  },
  {
   "cell_type": "markdown",
   "metadata": {},
   "source": [
    "`The reason the recovered values are not exactly the same as the original data is because of small rounding errors in the calculations. Computers can’t always handle numbers perfectly, especially when doing complex math like matrix multiplication, so tiny differences can appear.`"
   ]
  },
  {
   "cell_type": "markdown",
   "metadata": {},
   "source": [
    "## Proof That Data Obfuscation Can Work with LR"
   ]
  },
  {
   "cell_type": "markdown",
   "metadata": {},
   "source": [
    "The regression task has been solved with linear regression in this project. My next task is to prove _analytically_ that the given obfuscation method won't affect linear regression in terms of predicted values i.e. their values will remain the same. Can you believe that? If not I'll prove it."
   ]
  },
  {
   "cell_type": "markdown",
   "metadata": {},
   "source": [
    "So, the data is obfuscated and there is $X \\times P$ instead of just $X$ now. Consequently, there are other weights $w_P$ as\n",
    "$$\n",
    "w = (X^T X)^{-1} X^T y \\quad \\Rightarrow \\quad w_P = [(XP)^T XP]^{-1} (XP)^T y\n",
    "$$\n",
    "\n",
    "How would $w$ and $w_P$ be linked if you simplify the formula for $w_P$ above? \n",
    "\n",
    "What would be predicted values with $w_P$? \n",
    "\n",
    "What does that mean for the quality of linear regression if you measure it with RMSE?"
   ]
  },
  {
   "cell_type": "markdown",
   "metadata": {},
   "source": [
    "**Answer**"
   ]
  },
  {
   "cell_type": "markdown",
   "metadata": {},
   "source": [
    "1. Link between $w$ and $w_P$: The weights $w_P$ for the transformed data $X' = X_P$ are related to the original weights $w$ by the formula:\n",
    "\n",
    "$$\n",
    "w_P = P^{-1} w\n",
    "$$\n",
    "\n",
    "2. Predicted values with $w_P$: The predicted values for the transformed data, $\\hat{y}_P$, will be the same as the predicted values for the original data, $\\hat{y}$, because:\n",
    "\n",
    "$$\n",
    "\\hat{y}_P = X_P P^{-1} w = X w = \\hat{y}\n",
    "$$\n",
    "\n",
    "3. Impact on RMSE: Since the predicted values with $w_P$ are the same as with $w$, the RMSE will not change. The quality of the linear regression model, when measured by RMSE, will be the same for both the original and transformed data."
   ]
  },
  {
   "cell_type": "markdown",
   "metadata": {},
   "source": [
    "**Analytical proof**"
   ]
  },
  {
   "cell_type": "markdown",
   "metadata": {},
   "source": [
    "    1. Link between $w$ and $w_P$:\n",
    "\n",
    "We are given that the data has been transformed by multiplying $X$ by a matrix $P$. Specifically, the transformed data is $X' = X P$.\n",
    "\n",
    "The usual linear regression equation is:\n",
    "\n",
    "$$\n",
    "w = (X^T X)^{-1} X^T y\n",
    "$$\n",
    "\n",
    "For the transformed data, the equation becomes:\n",
    "\n",
    "$$\n",
    "w_P = (X_P^T X_P)^{-1} X_P^T y\n",
    "$$\n",
    "\n",
    "Since $X_P = X P$, we substitute this into the equation:\n",
    "\n",
    "$$\n",
    "w_P = ((X P)^T (X P))^{-1} (X P)^T y\n",
    "$$\n",
    "\n",
    "Now, simplify:\n",
    "\n",
    "$$\n",
    "w_P = (P^T X^T X P)^{-1} P^T X^T y\n",
    "$$\n",
    "\n",
    "Using the property of matrix inverses, we can break this up:\n",
    "\n",
    "$$\n",
    "w_P = P^{-1} (X^T X)^{-1} X^T y\n",
    "$$\n",
    "\n",
    "Finally, from the original equation for $w$, we know that:\n",
    "\n",
    "$$\n",
    "w = (X^T X)^{-1} X^T y\n",
    "$$\n",
    "\n",
    "Thus, we can rewrite the formula for $w_P$ as:\n",
    "\n",
    "$$\n",
    "w_P = P^{-1} w\n",
    "$$\n",
    "\n",
    "This shows the relationship between $w$ and $w_P$, as required.\n",
    "\n",
    "\n",
    "2. Predicted values with $w_P$:\n",
    "\n",
    "The predicted values for the original data are:\n",
    "\n",
    "$$\n",
    "\\hat{y} = X w\n",
    "$$\n",
    "\n",
    "For the transformed data, the predicted values are:\n",
    "\n",
    "$$\n",
    "\\hat{y}_P = X_P w_P\n",
    "$$\n",
    "\n",
    "Since $X_P = X P$ and $w_P = P^{-1} w$, substitute these into the equation for $\\hat{y}_P$:\n",
    "\n",
    "$$\n",
    "\\hat{y}_P = (X P) P^{-1} w\n",
    "$$\n",
    "\n",
    "Simplifying:\n",
    "\n",
    "$$\n",
    "\\hat{y}_P = X (P P^{-1}) w = X w\n",
    "$$\n",
    "\n",
    "But $X w$ is just $\\hat{y}$, so:\n",
    "\n",
    "$$\n",
    "\\hat{y}_P = \\hat{y}\n",
    "$$\n",
    "\n",
    "This shows that the predicted values with $w_P$ are the same as the predicted values with $w$.\n",
    "\n",
    "\n",
    "3. Impact on RMSE:\n",
    "\n",
    "The RMSE (Root Mean Squared Error) is given by:\n",
    "\n",
    "$$\n",
    "\\text{RMSE} = \\sqrt{\\frac{1}{n} \\sum \\left( \\hat{y}_i - y_i \\right)^2}\n",
    "$$\n",
    "\n",
    "Since the predicted values with $w_P$ and $w$ are the same (i.e., $\\hat{y}_P = \\hat{y}$), the error terms $\\hat{y}_i - y_i$ will be identical for both cases. Therefore, the RMSE will not change:\n",
    "\n",
    "$$\n",
    "\\text{RMSE}(w_P) = \\text{RMSE}(w)\n",
    "$$\n",
    "\n",
    "Thus, the quality of the linear regression model, when measured by RMSE, will be the same for both the original and transformed data."
   ]
  },
  {
   "cell_type": "markdown",
   "metadata": {},
   "source": [
    "## Test Linear Regression With Data Obfuscation"
   ]
  },
  {
   "cell_type": "markdown",
   "metadata": {},
   "source": [
    "Now, let's prove Linear Regression can work computationally with the chosen obfuscation transformation.\n",
    "\n",
    "Let's build a procedure or a class that runs Linear Regression optionally with the obfuscation."
   ]
  },
  {
   "cell_type": "markdown",
   "metadata": {},
   "source": [
    "**Procedure**\n",
    "\n",
    "- Create a square matrix $P$ of random numbers.\n",
    "- Check that it is invertible. If not, repeat the first point until we get an invertible matrix.\n",
    "- Use $XP$ as the new feature matrix"
   ]
  },
  {
   "cell_type": "code",
   "execution_count": 49,
   "metadata": {},
   "outputs": [],
   "source": [
    "def generate_invertible_matrix(n):\n",
    "    while True:\n",
    "        P = np.random.randn(n, n)\n",
    "        if np.linalg.det(P) != 0:\n",
    "            return P"
   ]
  },
  {
   "cell_type": "code",
   "execution_count": 50,
   "metadata": {},
   "outputs": [],
   "source": [
    "def run_linear_regression(X_train, X_test, y_train, y_test):\n",
    "    model = LinearRegression()\n",
    "    model.fit(X_train, y_train)\n",
    "    \n",
    "    y_pred_train = model.predict(X_train)\n",
    "    y_pred_test = model.predict(X_test)\n",
    "    \n",
    "    rmse_train = np.sqrt(mean_squared_error(y_train, y_pred_train))\n",
    "    rmse_test = np.sqrt(mean_squared_error(y_test, y_pred_test))\n",
    "    \n",
    "    r2_train = r2_score(y_train, y_pred_train)\n",
    "    r2_test = r2_score(y_test, y_pred_test)\n",
    "    \n",
    "    return y_pred_train, y_pred_test, rmse_train, rmse_test, r2_train, r2_test"
   ]
  },
  {
   "cell_type": "code",
   "execution_count": 51,
   "metadata": {},
   "outputs": [
    {
     "name": "stdout",
     "output_type": "stream",
     "text": [
      "Original Data - Training RMSE: 0.2397, Test RMSE: 0.2337\n",
      "Obfuscated Data - Training RMSE: 0.2397, Test RMSE: 0.2337\n",
      "Original Data - Training R^2: 0.4337, Test R^2: 0.4363\n",
      "Obfuscated Data - Training R^2: 0.4337, Test R^2: 0.4363\n",
      "Predicted values with original data (train): [0.06966982 0.25728048 0.18237303 0.23930157 0.31943436]\n",
      "Predicted values with obfuscated data (train): [0.06966982 0.25728048 0.18237303 0.23930157 0.31943436]\n"
     ]
    }
   ],
   "source": [
    "X_train, X_test, y_train, y_test = train_test_split(X, y, test_size=0.3, random_state=12345)\n",
    "\n",
    "P = generate_invertible_matrix(X_train.shape[1])\n",
    "\n",
    "X_train_P = X_train @ P\n",
    "X_test_P = X_test @ P\n",
    "\n",
    "y_pred_train_original, y_pred_test_original, rmse_train_original, rmse_test_original, r2_train_original, r2_test_original = run_linear_regression(X_train, X_test, y_train, y_test)\n",
    "\n",
    "y_pred_train_obfuscated, y_pred_test_obfuscated, rmse_train_obfuscated, rmse_test_obfuscated, r2_train_obfuscated, r2_test_obfuscated = run_linear_regression(X_train_P, X_test_P, y_train, y_test)\n",
    "\n",
    "print(f\"Original Data - Training RMSE: {rmse_train_original:.4f}, Test RMSE: {rmse_test_original:.4f}\")\n",
    "print(f\"Obfuscated Data - Training RMSE: {rmse_train_obfuscated:.4f}, Test RMSE: {rmse_test_obfuscated:.4f}\")\n",
    "print(f\"Original Data - Training R^2: {r2_train_original:.4f}, Test R^2: {r2_test_original:.4f}\")\n",
    "print(f\"Obfuscated Data - Training R^2: {r2_train_obfuscated:.4f}, Test R^2: {r2_test_obfuscated:.4f}\")\n",
    "\n",
    "print(f\"Predicted values with original data (train): {y_pred_train_original[:5]}\")\n",
    "print(f\"Predicted values with obfuscated data (train): {y_pred_train_obfuscated[:5]}\")"
   ]
  },
  {
   "cell_type": "markdown",
   "metadata": {},
   "source": [
    "The results show that the Linear Regression model's performance (RMSE and \\( R^2 \\)) for both the original and obfuscated data is identical. The RMSE for both the original and obfuscated data is `0.2397 `for training and `0.2337` for testing, indicating that the obfuscation did not significantly affect the model's prediction accuracy. Similarly, the \\( R^2 \\) scores for both datasets are `0.4337` (training) and `0.4363` (test), demonstrating no impact from the transformation on the model's ability to explain variance in the data. The predicted values for the original and obfuscated data are also identical.\n",
    "\n",
    "These results suggest that the obfuscation transformation, despite altering the feature matrix with a random invertible matrix \\( P \\), did not negatively affect the model's performance. This indicates that the obfuscation preserved the relevant feature relationships needed for the model to make accurate predictions. Therefore, Linear Regression can successfully handle obfuscated data without a noticeable degradation in performance."
   ]
  },
  {
   "cell_type": "markdown",
   "metadata": {},
   "source": [
    "# Conclusions"
   ]
  },
  {
   "cell_type": "markdown",
   "metadata": {},
   "source": [
    "This project introduced several new concepts, particularly the use of Data Obfuscation, which I now recognize will be an essential tool in my future work. With the ability to implement it alongside Linear Regression, I’m confident I can use these techniques to enhance my professional skills and approach. While much of the process, including standard EDA and task execution, made sense, I initially struggled with how to format formulas in markdown. However, after a few attempts, I became more comfortable with it.\n",
    "\n",
    "In these tasks, we applied various data analysis and machine learning techniques to address key business challenges. In Task 1, we focused on identifying similar customers to help improve the company's marketing strategies. Task 2 involved building a prediction model to determine the likelihood of a new customer receiving an insurance benefit, and we tested whether a trained model could outperform a basic dummy model. For Task 3, we used linear regression to predict the number of insurance benefits a new customer might receive. Finally, Task 4 addressed the critical issue of data privacy by obfuscating client information, ensuring personal data protection while maintaining the model’s performance from Task 3.\n",
    "\n",
    "We started by applying data obfuscation to the feature matrix$X$ by multiplying it with a random invertible matrix $P$, creating a transformed matrix $( X' = X P )$. The goal was to ensure that the linear regression model would still work with the obfuscated data. We calculated the new weights $( w_P )$ for the transformed data using the formula:\n",
    "\n",
    "$$\n",
    "w_P = (X'^\\top X')^{-1} X'^\\top y\n",
    "$$\n",
    "\n",
    "and showed that these weights relate to the original weights \\( w \\) by:\n",
    "\n",
    "$$\n",
    "w_P = P^{-1} w\n",
    "$$\n",
    "\n",
    "After running the regression on both the original and obfuscated data, I have confirmed that the model’s performance, measured by RMSE and $R^2$, remained unchanged. The process was smooth once I understood how to handle the obfuscation mathematically and verified the model's effectiveness."
   ]
  }
 ],
 "metadata": {
  "ExecuteTimeLog": [
   {
    "duration": 2684,
    "start_time": "2024-12-03T21:52:11.082Z"
   },
   {
    "duration": 58,
    "start_time": "2024-12-03T21:52:13.771Z"
   },
   {
    "duration": 4,
    "start_time": "2024-12-03T21:52:13.830Z"
   },
   {
    "duration": 11,
    "start_time": "2024-12-03T21:52:13.835Z"
   },
   {
    "duration": 8,
    "start_time": "2024-12-03T21:52:13.848Z"
   },
   {
    "duration": 1,
    "start_time": "2024-12-03T21:52:13.871Z"
   },
   {
    "duration": 2,
    "start_time": "2024-12-03T21:52:13.874Z"
   },
   {
    "duration": 2,
    "start_time": "2024-12-03T21:52:13.878Z"
   },
   {
    "duration": 2576,
    "start_time": "2024-12-03T21:52:13.882Z"
   },
   {
    "duration": 2,
    "start_time": "2024-12-03T21:52:16.460Z"
   },
   {
    "duration": 5,
    "start_time": "2024-12-03T21:52:16.466Z"
   },
   {
    "duration": 0,
    "start_time": "2024-12-03T21:52:16.473Z"
   },
   {
    "duration": 0,
    "start_time": "2024-12-03T21:52:16.474Z"
   },
   {
    "duration": 0,
    "start_time": "2024-12-03T21:52:16.475Z"
   },
   {
    "duration": 0,
    "start_time": "2024-12-03T21:52:16.477Z"
   },
   {
    "duration": 0,
    "start_time": "2024-12-03T21:52:16.478Z"
   },
   {
    "duration": 0,
    "start_time": "2024-12-03T21:52:16.479Z"
   },
   {
    "duration": 0,
    "start_time": "2024-12-03T21:52:16.480Z"
   },
   {
    "duration": 0,
    "start_time": "2024-12-03T21:52:16.481Z"
   },
   {
    "duration": 0,
    "start_time": "2024-12-03T21:52:16.482Z"
   },
   {
    "duration": 0,
    "start_time": "2024-12-03T21:52:16.484Z"
   },
   {
    "duration": 0,
    "start_time": "2024-12-03T21:52:16.485Z"
   },
   {
    "duration": 0,
    "start_time": "2024-12-03T21:52:16.487Z"
   },
   {
    "duration": 0,
    "start_time": "2024-12-03T21:52:16.488Z"
   },
   {
    "duration": 228,
    "start_time": "2024-12-03T21:53:49.147Z"
   },
   {
    "duration": 7,
    "start_time": "2024-12-03T21:54:40.616Z"
   },
   {
    "duration": 9,
    "start_time": "2024-12-03T21:54:54.742Z"
   },
   {
    "duration": 3,
    "start_time": "2024-12-03T21:55:01.721Z"
   },
   {
    "duration": 8,
    "start_time": "2024-12-03T21:55:10.142Z"
   },
   {
    "duration": 17,
    "start_time": "2024-12-03T21:56:00.335Z"
   },
   {
    "duration": 17,
    "start_time": "2024-12-03T21:56:12.482Z"
   },
   {
    "duration": 15,
    "start_time": "2024-12-03T21:56:53.813Z"
   },
   {
    "duration": 3,
    "start_time": "2024-12-03T21:56:57.646Z"
   },
   {
    "duration": 6,
    "start_time": "2024-12-03T21:56:57.654Z"
   },
   {
    "duration": 3,
    "start_time": "2024-12-03T21:56:57.662Z"
   },
   {
    "duration": 8,
    "start_time": "2024-12-03T21:56:57.667Z"
   },
   {
    "duration": 8,
    "start_time": "2024-12-03T21:56:57.677Z"
   },
   {
    "duration": 3,
    "start_time": "2024-12-03T21:56:57.686Z"
   },
   {
    "duration": 8,
    "start_time": "2024-12-03T21:56:57.691Z"
   },
   {
    "duration": 15,
    "start_time": "2024-12-03T21:57:00.359Z"
   },
   {
    "duration": 2,
    "start_time": "2024-12-03T21:58:28.192Z"
   },
   {
    "duration": 11,
    "start_time": "2024-12-03T22:00:48.194Z"
   },
   {
    "duration": 5,
    "start_time": "2024-12-03T22:00:58.723Z"
   },
   {
    "duration": 16,
    "start_time": "2024-12-03T22:01:27.372Z"
   },
   {
    "duration": 5,
    "start_time": "2024-12-03T22:09:58.938Z"
   },
   {
    "duration": 4,
    "start_time": "2024-12-03T22:12:23.195Z"
   },
   {
    "duration": 8,
    "start_time": "2024-12-03T22:12:31.354Z"
   },
   {
    "duration": 7,
    "start_time": "2024-12-03T22:12:33.268Z"
   },
   {
    "duration": 10,
    "start_time": "2024-12-03T22:19:28.055Z"
   },
   {
    "duration": 14,
    "start_time": "2024-12-03T22:19:47.238Z"
   },
   {
    "duration": 13,
    "start_time": "2024-12-03T22:19:55.716Z"
   },
   {
    "duration": 15,
    "start_time": "2024-12-03T22:24:08.681Z"
   },
   {
    "duration": 4,
    "start_time": "2024-12-03T22:24:27.260Z"
   },
   {
    "duration": 5,
    "start_time": "2024-12-03T22:24:35.429Z"
   },
   {
    "duration": 26,
    "start_time": "2024-12-03T22:24:35.437Z"
   },
   {
    "duration": 3,
    "start_time": "2024-12-03T22:24:35.466Z"
   },
   {
    "duration": 8,
    "start_time": "2024-12-03T22:24:35.472Z"
   },
   {
    "duration": 8,
    "start_time": "2024-12-03T22:24:35.482Z"
   },
   {
    "duration": 3,
    "start_time": "2024-12-03T22:24:35.491Z"
   },
   {
    "duration": 8,
    "start_time": "2024-12-03T22:24:35.496Z"
   },
   {
    "duration": 23,
    "start_time": "2024-12-03T22:24:35.505Z"
   },
   {
    "duration": 2759,
    "start_time": "2024-12-03T22:24:35.531Z"
   },
   {
    "duration": 2,
    "start_time": "2024-12-03T22:24:38.292Z"
   },
   {
    "duration": 4,
    "start_time": "2024-12-03T22:24:38.296Z"
   },
   {
    "duration": 11,
    "start_time": "2024-12-03T22:24:38.302Z"
   },
   {
    "duration": 9,
    "start_time": "2024-12-03T22:24:38.314Z"
   },
   {
    "duration": 46,
    "start_time": "2024-12-03T22:24:38.326Z"
   },
   {
    "duration": 28,
    "start_time": "2024-12-03T22:24:41.681Z"
   },
   {
    "duration": 31,
    "start_time": "2024-12-03T22:25:00.871Z"
   },
   {
    "duration": 14,
    "start_time": "2024-12-03T22:25:40.851Z"
   },
   {
    "duration": 13,
    "start_time": "2024-12-03T22:25:51.190Z"
   },
   {
    "duration": 16,
    "start_time": "2024-12-03T22:26:30.766Z"
   },
   {
    "duration": 3,
    "start_time": "2024-12-03T22:43:11.086Z"
   },
   {
    "duration": 5,
    "start_time": "2024-12-03T22:43:48.430Z"
   },
   {
    "duration": 4,
    "start_time": "2024-12-03T22:44:36.552Z"
   },
   {
    "duration": 3,
    "start_time": "2024-12-03T22:45:19.396Z"
   },
   {
    "duration": 999,
    "start_time": "2024-12-03T22:47:31.878Z"
   },
   {
    "duration": 8,
    "start_time": "2024-12-03T22:47:32.880Z"
   },
   {
    "duration": 3,
    "start_time": "2024-12-03T22:47:32.890Z"
   },
   {
    "duration": 11,
    "start_time": "2024-12-03T22:47:32.895Z"
   },
   {
    "duration": 9,
    "start_time": "2024-12-03T22:47:32.907Z"
   },
   {
    "duration": 4,
    "start_time": "2024-12-03T22:47:32.917Z"
   },
   {
    "duration": 8,
    "start_time": "2024-12-03T22:47:32.922Z"
   },
   {
    "duration": 45,
    "start_time": "2024-12-03T22:47:32.932Z"
   },
   {
    "duration": 2559,
    "start_time": "2024-12-03T22:47:32.979Z"
   },
   {
    "duration": 3,
    "start_time": "2024-12-03T22:47:35.541Z"
   },
   {
    "duration": 5,
    "start_time": "2024-12-03T22:47:35.546Z"
   },
   {
    "duration": 9,
    "start_time": "2024-12-03T22:47:35.553Z"
   },
   {
    "duration": 12,
    "start_time": "2024-12-03T22:47:35.565Z"
   },
   {
    "duration": 13,
    "start_time": "2024-12-03T22:47:35.578Z"
   },
   {
    "duration": 21,
    "start_time": "2024-12-03T22:47:35.592Z"
   },
   {
    "duration": 14,
    "start_time": "2024-12-03T22:47:35.614Z"
   },
   {
    "duration": 42,
    "start_time": "2024-12-03T22:47:35.629Z"
   },
   {
    "duration": 4,
    "start_time": "2024-12-03T22:47:35.672Z"
   },
   {
    "duration": 4,
    "start_time": "2024-12-03T22:47:35.678Z"
   },
   {
    "duration": 3,
    "start_time": "2024-12-03T22:47:38.208Z"
   },
   {
    "duration": 3,
    "start_time": "2024-12-03T22:48:12.251Z"
   },
   {
    "duration": 20,
    "start_time": "2024-12-03T22:49:34.277Z"
   },
   {
    "duration": 5,
    "start_time": "2024-12-03T22:53:49.066Z"
   },
   {
    "duration": 19,
    "start_time": "2024-12-03T22:53:51.682Z"
   },
   {
    "duration": 3,
    "start_time": "2024-12-03T22:54:04.632Z"
   },
   {
    "duration": 7,
    "start_time": "2024-12-03T22:54:04.637Z"
   },
   {
    "duration": 3,
    "start_time": "2024-12-03T22:54:04.647Z"
   },
   {
    "duration": 11,
    "start_time": "2024-12-03T22:54:04.652Z"
   },
   {
    "duration": 10,
    "start_time": "2024-12-03T22:54:04.665Z"
   },
   {
    "duration": 3,
    "start_time": "2024-12-03T22:54:04.677Z"
   },
   {
    "duration": 9,
    "start_time": "2024-12-03T22:54:04.681Z"
   },
   {
    "duration": 16,
    "start_time": "2024-12-03T22:54:04.692Z"
   },
   {
    "duration": 2682,
    "start_time": "2024-12-03T22:54:04.711Z"
   },
   {
    "duration": 2,
    "start_time": "2024-12-03T22:54:07.395Z"
   },
   {
    "duration": 4,
    "start_time": "2024-12-03T22:54:07.399Z"
   },
   {
    "duration": 7,
    "start_time": "2024-12-03T22:54:07.405Z"
   },
   {
    "duration": 9,
    "start_time": "2024-12-03T22:54:07.414Z"
   },
   {
    "duration": 15,
    "start_time": "2024-12-03T22:54:07.425Z"
   },
   {
    "duration": 28,
    "start_time": "2024-12-03T22:54:07.469Z"
   },
   {
    "duration": 12,
    "start_time": "2024-12-03T22:54:07.499Z"
   },
   {
    "duration": 14,
    "start_time": "2024-12-03T22:54:07.512Z"
   },
   {
    "duration": 3,
    "start_time": "2024-12-03T22:54:07.528Z"
   },
   {
    "duration": 5,
    "start_time": "2024-12-03T22:54:07.532Z"
   },
   {
    "duration": 32,
    "start_time": "2024-12-03T22:54:07.539Z"
   },
   {
    "duration": 3,
    "start_time": "2024-12-03T22:54:07.573Z"
   },
   {
    "duration": 5,
    "start_time": "2024-12-03T22:54:07.578Z"
   },
   {
    "duration": 19,
    "start_time": "2024-12-03T22:54:09.187Z"
   },
   {
    "duration": 236,
    "start_time": "2024-12-03T23:01:00.419Z"
   },
   {
    "duration": 21,
    "start_time": "2024-12-03T23:01:58.308Z"
   },
   {
    "duration": 16,
    "start_time": "2024-12-03T23:03:36.175Z"
   },
   {
    "duration": 3,
    "start_time": "2024-12-03T23:04:00.450Z"
   },
   {
    "duration": 288,
    "start_time": "2024-12-03T23:04:15.204Z"
   },
   {
    "duration": 172,
    "start_time": "2024-12-03T23:06:39.030Z"
   },
   {
    "duration": 710,
    "start_time": "2024-12-03T23:07:50.421Z"
   },
   {
    "duration": 6,
    "start_time": "2024-12-03T23:15:49.546Z"
   },
   {
    "duration": 4,
    "start_time": "2024-12-03T23:17:01.661Z"
   },
   {
    "duration": 2,
    "start_time": "2024-12-03T23:17:05.069Z"
   },
   {
    "duration": 64,
    "start_time": "2024-12-03T23:17:11.309Z"
   },
   {
    "duration": 3,
    "start_time": "2024-12-03T23:18:30.076Z"
   },
   {
    "duration": 7,
    "start_time": "2024-12-03T23:18:30.082Z"
   },
   {
    "duration": 3,
    "start_time": "2024-12-03T23:18:30.091Z"
   },
   {
    "duration": 8,
    "start_time": "2024-12-03T23:18:30.096Z"
   },
   {
    "duration": 8,
    "start_time": "2024-12-03T23:18:30.108Z"
   },
   {
    "duration": 4,
    "start_time": "2024-12-03T23:18:30.118Z"
   },
   {
    "duration": 8,
    "start_time": "2024-12-03T23:18:30.123Z"
   },
   {
    "duration": 19,
    "start_time": "2024-12-03T23:18:30.169Z"
   },
   {
    "duration": 2635,
    "start_time": "2024-12-03T23:18:30.191Z"
   },
   {
    "duration": 2,
    "start_time": "2024-12-03T23:18:32.828Z"
   },
   {
    "duration": 6,
    "start_time": "2024-12-03T23:18:32.833Z"
   },
   {
    "duration": 33,
    "start_time": "2024-12-03T23:18:32.840Z"
   },
   {
    "duration": 16,
    "start_time": "2024-12-03T23:18:32.875Z"
   },
   {
    "duration": 13,
    "start_time": "2024-12-03T23:18:32.893Z"
   },
   {
    "duration": 20,
    "start_time": "2024-12-03T23:18:32.908Z"
   },
   {
    "duration": 15,
    "start_time": "2024-12-03T23:18:32.930Z"
   },
   {
    "duration": 33,
    "start_time": "2024-12-03T23:18:32.947Z"
   },
   {
    "duration": 3,
    "start_time": "2024-12-03T23:18:32.982Z"
   },
   {
    "duration": 6,
    "start_time": "2024-12-03T23:18:32.986Z"
   },
   {
    "duration": 4,
    "start_time": "2024-12-03T23:18:32.993Z"
   },
   {
    "duration": 3,
    "start_time": "2024-12-03T23:18:32.999Z"
   },
   {
    "duration": 5,
    "start_time": "2024-12-03T23:18:33.005Z"
   },
   {
    "duration": 783,
    "start_time": "2024-12-03T23:18:33.011Z"
   },
   {
    "duration": 3,
    "start_time": "2024-12-03T23:18:33.796Z"
   },
   {
    "duration": 3,
    "start_time": "2024-12-03T23:18:33.801Z"
   },
   {
    "duration": 47,
    "start_time": "2024-12-03T23:18:36.328Z"
   },
   {
    "duration": 4,
    "start_time": "2024-12-03T23:20:42.488Z"
   },
   {
    "duration": 4,
    "start_time": "2024-12-03T23:20:46.509Z"
   },
   {
    "duration": 6,
    "start_time": "2024-12-03T23:21:01.535Z"
   },
   {
    "duration": 4,
    "start_time": "2024-12-03T23:21:16.468Z"
   },
   {
    "duration": 3,
    "start_time": "2024-12-03T23:21:18.532Z"
   },
   {
    "duration": 7,
    "start_time": "2024-12-03T23:21:19.049Z"
   },
   {
    "duration": 2642,
    "start_time": "2024-12-05T01:50:43.758Z"
   },
   {
    "duration": 56,
    "start_time": "2024-12-05T01:50:46.403Z"
   },
   {
    "duration": 3,
    "start_time": "2024-12-05T01:50:46.460Z"
   },
   {
    "duration": 11,
    "start_time": "2024-12-05T01:50:46.465Z"
   },
   {
    "duration": 8,
    "start_time": "2024-12-05T01:50:46.479Z"
   },
   {
    "duration": 3,
    "start_time": "2024-12-05T01:50:46.489Z"
   },
   {
    "duration": 25,
    "start_time": "2024-12-05T01:50:46.493Z"
   },
   {
    "duration": 15,
    "start_time": "2024-12-05T01:50:46.520Z"
   },
   {
    "duration": 2563,
    "start_time": "2024-12-05T01:50:46.537Z"
   },
   {
    "duration": 3,
    "start_time": "2024-12-05T01:50:49.102Z"
   },
   {
    "duration": 5,
    "start_time": "2024-12-05T01:50:49.106Z"
   },
   {
    "duration": 8,
    "start_time": "2024-12-05T01:50:49.113Z"
   },
   {
    "duration": 8,
    "start_time": "2024-12-05T01:50:49.123Z"
   },
   {
    "duration": 13,
    "start_time": "2024-12-05T01:50:49.133Z"
   },
   {
    "duration": 20,
    "start_time": "2024-12-05T01:50:49.147Z"
   },
   {
    "duration": 12,
    "start_time": "2024-12-05T01:50:49.168Z"
   },
   {
    "duration": 14,
    "start_time": "2024-12-05T01:50:49.211Z"
   },
   {
    "duration": 3,
    "start_time": "2024-12-05T01:50:49.226Z"
   },
   {
    "duration": 4,
    "start_time": "2024-12-05T01:50:49.231Z"
   },
   {
    "duration": 3,
    "start_time": "2024-12-05T01:50:49.237Z"
   },
   {
    "duration": 3,
    "start_time": "2024-12-05T01:50:49.241Z"
   },
   {
    "duration": 5,
    "start_time": "2024-12-05T01:50:49.246Z"
   },
   {
    "duration": 734,
    "start_time": "2024-12-05T01:50:49.253Z"
   },
   {
    "duration": 3,
    "start_time": "2024-12-05T01:50:49.989Z"
   },
   {
    "duration": 3,
    "start_time": "2024-12-05T01:50:49.994Z"
   },
   {
    "duration": 20,
    "start_time": "2024-12-05T01:50:49.999Z"
   },
   {
    "duration": 5,
    "start_time": "2024-12-05T01:50:50.021Z"
   },
   {
    "duration": 2,
    "start_time": "2024-12-05T01:50:50.028Z"
   },
   {
    "duration": 3,
    "start_time": "2024-12-05T01:50:50.032Z"
   },
   {
    "duration": 4,
    "start_time": "2024-12-05T02:02:07.428Z"
   },
   {
    "duration": 2,
    "start_time": "2024-12-05T02:02:08.224Z"
   },
   {
    "duration": 3,
    "start_time": "2024-12-05T02:02:12.127Z"
   },
   {
    "duration": 3,
    "start_time": "2024-12-05T02:03:41.983Z"
   },
   {
    "duration": 5,
    "start_time": "2024-12-05T02:07:56.799Z"
   },
   {
    "duration": 229,
    "start_time": "2024-12-05T02:16:20.834Z"
   },
   {
    "duration": 2,
    "start_time": "2024-12-05T02:17:20.369Z"
   },
   {
    "duration": 5,
    "start_time": "2024-12-05T02:18:35.325Z"
   },
   {
    "duration": 3,
    "start_time": "2024-12-05T03:27:40.973Z"
   },
   {
    "duration": 4,
    "start_time": "2024-12-05T03:28:03.071Z"
   },
   {
    "duration": 4,
    "start_time": "2024-12-05T03:28:20.266Z"
   },
   {
    "duration": 27,
    "start_time": "2024-12-05T03:28:33.408Z"
   },
   {
    "duration": 3,
    "start_time": "2024-12-05T03:28:55.549Z"
   },
   {
    "duration": 22,
    "start_time": "2024-12-05T03:29:01.595Z"
   },
   {
    "duration": 3,
    "start_time": "2024-12-05T03:29:14.675Z"
   },
   {
    "duration": 6,
    "start_time": "2024-12-05T03:29:20.604Z"
   },
   {
    "duration": 4,
    "start_time": "2024-12-05T03:30:42.067Z"
   },
   {
    "duration": 4,
    "start_time": "2024-12-05T03:30:53.001Z"
   },
   {
    "duration": 6,
    "start_time": "2024-12-05T03:31:01.108Z"
   },
   {
    "duration": 2898,
    "start_time": "2024-12-11T16:33:33.595Z"
   },
   {
    "duration": 12,
    "start_time": "2024-12-11T16:33:36.496Z"
   },
   {
    "duration": 3,
    "start_time": "2024-12-11T16:33:36.509Z"
   },
   {
    "duration": 11,
    "start_time": "2024-12-11T16:33:36.514Z"
   },
   {
    "duration": 18,
    "start_time": "2024-12-11T16:33:36.528Z"
   },
   {
    "duration": 3,
    "start_time": "2024-12-11T16:33:36.547Z"
   },
   {
    "duration": 8,
    "start_time": "2024-12-11T16:33:36.552Z"
   },
   {
    "duration": 17,
    "start_time": "2024-12-11T16:33:36.562Z"
   },
   {
    "duration": 2578,
    "start_time": "2024-12-11T16:33:36.581Z"
   },
   {
    "duration": 2,
    "start_time": "2024-12-11T16:33:39.161Z"
   },
   {
    "duration": 5,
    "start_time": "2024-12-11T16:33:39.165Z"
   },
   {
    "duration": 9,
    "start_time": "2024-12-11T16:33:39.171Z"
   },
   {
    "duration": 8,
    "start_time": "2024-12-11T16:33:39.181Z"
   },
   {
    "duration": 13,
    "start_time": "2024-12-11T16:33:39.193Z"
   },
   {
    "duration": 41,
    "start_time": "2024-12-11T16:33:39.207Z"
   },
   {
    "duration": 14,
    "start_time": "2024-12-11T16:33:39.251Z"
   },
   {
    "duration": 16,
    "start_time": "2024-12-11T16:33:39.268Z"
   },
   {
    "duration": 3,
    "start_time": "2024-12-11T16:33:39.286Z"
   },
   {
    "duration": 5,
    "start_time": "2024-12-11T16:33:39.292Z"
   },
   {
    "duration": 4,
    "start_time": "2024-12-11T16:33:39.298Z"
   },
   {
    "duration": 3,
    "start_time": "2024-12-11T16:33:39.304Z"
   },
   {
    "duration": 34,
    "start_time": "2024-12-11T16:33:39.310Z"
   },
   {
    "duration": 708,
    "start_time": "2024-12-11T16:33:59.101Z"
   },
   {
    "duration": 309,
    "start_time": "2024-12-11T16:49:14.543Z"
   },
   {
    "duration": 4,
    "start_time": "2024-12-11T16:49:21.123Z"
   },
   {
    "duration": 8,
    "start_time": "2024-12-11T16:49:21.135Z"
   },
   {
    "duration": 3,
    "start_time": "2024-12-11T16:49:21.145Z"
   },
   {
    "duration": 9,
    "start_time": "2024-12-11T16:49:21.149Z"
   },
   {
    "duration": 8,
    "start_time": "2024-12-11T16:49:21.159Z"
   },
   {
    "duration": 3,
    "start_time": "2024-12-11T16:49:21.170Z"
   },
   {
    "duration": 8,
    "start_time": "2024-12-11T16:49:21.174Z"
   },
   {
    "duration": 16,
    "start_time": "2024-12-11T16:49:21.184Z"
   },
   {
    "duration": 2846,
    "start_time": "2024-12-11T16:49:21.201Z"
   },
   {
    "duration": 3,
    "start_time": "2024-12-11T16:49:24.049Z"
   },
   {
    "duration": 8,
    "start_time": "2024-12-11T16:49:24.054Z"
   },
   {
    "duration": 8,
    "start_time": "2024-12-11T16:49:24.064Z"
   },
   {
    "duration": 9,
    "start_time": "2024-12-11T16:49:24.074Z"
   },
   {
    "duration": 17,
    "start_time": "2024-12-11T16:49:24.085Z"
   },
   {
    "duration": 64,
    "start_time": "2024-12-11T16:49:24.105Z"
   },
   {
    "duration": 18,
    "start_time": "2024-12-11T16:49:24.172Z"
   },
   {
    "duration": 25,
    "start_time": "2024-12-11T16:49:24.191Z"
   },
   {
    "duration": 5,
    "start_time": "2024-12-11T16:49:24.220Z"
   },
   {
    "duration": 17,
    "start_time": "2024-12-11T16:49:24.228Z"
   },
   {
    "duration": 4,
    "start_time": "2024-12-11T16:49:24.247Z"
   },
   {
    "duration": 3,
    "start_time": "2024-12-11T16:49:24.253Z"
   },
   {
    "duration": 8,
    "start_time": "2024-12-11T16:49:24.260Z"
   },
   {
    "duration": 754,
    "start_time": "2024-12-11T16:49:24.270Z"
   },
   {
    "duration": 4,
    "start_time": "2024-12-11T16:49:25.028Z"
   },
   {
    "duration": 3,
    "start_time": "2024-12-11T16:49:25.033Z"
   },
   {
    "duration": 30,
    "start_time": "2024-12-11T16:49:30.517Z"
   },
   {
    "duration": 3,
    "start_time": "2024-12-11T16:52:37.378Z"
   },
   {
    "duration": 11,
    "start_time": "2024-12-11T16:52:38.340Z"
   },
   {
    "duration": 2,
    "start_time": "2024-12-11T16:52:49.618Z"
   },
   {
    "duration": 15,
    "start_time": "2024-12-11T16:52:50.101Z"
   },
   {
    "duration": 17,
    "start_time": "2024-12-11T16:58:54.474Z"
   },
   {
    "duration": 4,
    "start_time": "2024-12-11T16:59:00.472Z"
   },
   {
    "duration": 8,
    "start_time": "2024-12-11T16:59:00.480Z"
   },
   {
    "duration": 4,
    "start_time": "2024-12-11T16:59:00.491Z"
   },
   {
    "duration": 12,
    "start_time": "2024-12-11T16:59:00.497Z"
   },
   {
    "duration": 10,
    "start_time": "2024-12-11T16:59:00.511Z"
   },
   {
    "duration": 3,
    "start_time": "2024-12-11T16:59:00.524Z"
   },
   {
    "duration": 7,
    "start_time": "2024-12-11T16:59:00.529Z"
   },
   {
    "duration": 18,
    "start_time": "2024-12-11T16:59:00.543Z"
   },
   {
    "duration": 2783,
    "start_time": "2024-12-11T16:59:00.563Z"
   },
   {
    "duration": 2,
    "start_time": "2024-12-11T16:59:03.349Z"
   },
   {
    "duration": 5,
    "start_time": "2024-12-11T16:59:03.353Z"
   },
   {
    "duration": 8,
    "start_time": "2024-12-11T16:59:03.359Z"
   },
   {
    "duration": 8,
    "start_time": "2024-12-11T16:59:03.369Z"
   },
   {
    "duration": 13,
    "start_time": "2024-12-11T16:59:03.379Z"
   },
   {
    "duration": 49,
    "start_time": "2024-12-11T16:59:03.396Z"
   },
   {
    "duration": 13,
    "start_time": "2024-12-11T16:59:03.447Z"
   },
   {
    "duration": 14,
    "start_time": "2024-12-11T16:59:03.462Z"
   },
   {
    "duration": 4,
    "start_time": "2024-12-11T16:59:03.477Z"
   },
   {
    "duration": 5,
    "start_time": "2024-12-11T16:59:03.482Z"
   },
   {
    "duration": 3,
    "start_time": "2024-12-11T16:59:03.488Z"
   },
   {
    "duration": 3,
    "start_time": "2024-12-11T16:59:03.493Z"
   },
   {
    "duration": 5,
    "start_time": "2024-12-11T16:59:03.497Z"
   },
   {
    "duration": 705,
    "start_time": "2024-12-11T16:59:03.542Z"
   },
   {
    "duration": 4,
    "start_time": "2024-12-11T16:59:04.249Z"
   },
   {
    "duration": 4,
    "start_time": "2024-12-11T16:59:04.255Z"
   },
   {
    "duration": 12,
    "start_time": "2024-12-11T16:59:04.261Z"
   },
   {
    "duration": 4,
    "start_time": "2024-12-11T16:59:04.274Z"
   },
   {
    "duration": 66,
    "start_time": "2024-12-11T16:59:04.279Z"
   },
   {
    "duration": 5,
    "start_time": "2024-12-11T16:59:04.348Z"
   },
   {
    "duration": 5,
    "start_time": "2024-12-11T16:59:04.357Z"
   },
   {
    "duration": 77,
    "start_time": "2024-12-11T16:59:04.367Z"
   },
   {
    "duration": 3,
    "start_time": "2024-12-11T16:59:04.446Z"
   },
   {
    "duration": 7,
    "start_time": "2024-12-11T16:59:04.452Z"
   },
   {
    "duration": 3,
    "start_time": "2024-12-11T16:59:04.464Z"
   },
   {
    "duration": 76,
    "start_time": "2024-12-11T16:59:04.470Z"
   },
   {
    "duration": 4,
    "start_time": "2024-12-11T16:59:09.435Z"
   },
   {
    "duration": 135,
    "start_time": "2024-12-11T16:59:31.465Z"
   },
   {
    "duration": 10,
    "start_time": "2024-12-11T17:00:38.842Z"
   },
   {
    "duration": 2785,
    "start_time": "2024-12-11T17:18:23.778Z"
   },
   {
    "duration": 11,
    "start_time": "2024-12-11T17:18:26.565Z"
   },
   {
    "duration": 3,
    "start_time": "2024-12-11T17:18:26.577Z"
   },
   {
    "duration": 10,
    "start_time": "2024-12-11T17:18:26.583Z"
   },
   {
    "duration": 23,
    "start_time": "2024-12-11T17:18:26.595Z"
   },
   {
    "duration": 3,
    "start_time": "2024-12-11T17:18:26.619Z"
   },
   {
    "duration": 8,
    "start_time": "2024-12-11T17:18:26.624Z"
   },
   {
    "duration": 16,
    "start_time": "2024-12-11T17:18:26.633Z"
   },
   {
    "duration": 2549,
    "start_time": "2024-12-11T17:18:26.651Z"
   },
   {
    "duration": 2,
    "start_time": "2024-12-11T17:18:29.203Z"
   },
   {
    "duration": 5,
    "start_time": "2024-12-11T17:18:43.577Z"
   },
   {
    "duration": 8,
    "start_time": "2024-12-11T17:18:44.271Z"
   },
   {
    "duration": 9,
    "start_time": "2024-12-11T17:18:44.962Z"
   },
   {
    "duration": 14,
    "start_time": "2024-12-11T17:18:45.988Z"
   },
   {
    "duration": 20,
    "start_time": "2024-12-11T17:18:46.706Z"
   },
   {
    "duration": 13,
    "start_time": "2024-12-11T17:18:47.006Z"
   },
   {
    "duration": 18,
    "start_time": "2024-12-11T17:18:47.280Z"
   },
   {
    "duration": 3,
    "start_time": "2024-12-11T17:18:49.553Z"
   },
   {
    "duration": 6,
    "start_time": "2024-12-11T17:18:49.726Z"
   },
   {
    "duration": 2,
    "start_time": "2024-12-11T17:18:50.251Z"
   },
   {
    "duration": 3,
    "start_time": "2024-12-11T17:18:50.611Z"
   },
   {
    "duration": 6,
    "start_time": "2024-12-11T17:18:50.934Z"
   },
   {
    "duration": 690,
    "start_time": "2024-12-11T17:18:51.267Z"
   },
   {
    "duration": 310,
    "start_time": "2024-12-11T17:19:48.691Z"
   },
   {
    "duration": 719,
    "start_time": "2024-12-11T17:20:10.973Z"
   },
   {
    "duration": 7,
    "start_time": "2024-12-11T17:22:04.683Z"
   },
   {
    "duration": 737,
    "start_time": "2024-12-11T17:22:06.461Z"
   },
   {
    "duration": 7,
    "start_time": "2024-12-11T17:22:26.689Z"
   },
   {
    "duration": 377,
    "start_time": "2024-12-11T17:22:33.397Z"
   },
   {
    "duration": 667,
    "start_time": "2024-12-11T17:22:55.155Z"
   },
   {
    "duration": 5,
    "start_time": "2024-12-11T17:22:57.092Z"
   },
   {
    "duration": 690,
    "start_time": "2024-12-11T17:22:57.238Z"
   },
   {
    "duration": 5,
    "start_time": "2024-12-11T17:24:16.332Z"
   },
   {
    "duration": 20,
    "start_time": "2024-12-11T17:24:22.804Z"
   },
   {
    "duration": 10,
    "start_time": "2024-12-11T17:24:53.381Z"
   },
   {
    "duration": 2674,
    "start_time": "2024-12-12T04:09:19.472Z"
   },
   {
    "duration": 9,
    "start_time": "2024-12-12T04:09:22.149Z"
   },
   {
    "duration": 2,
    "start_time": "2024-12-12T04:09:22.160Z"
   },
   {
    "duration": 10,
    "start_time": "2024-12-12T04:09:22.164Z"
   },
   {
    "duration": 9,
    "start_time": "2024-12-12T04:09:22.176Z"
   },
   {
    "duration": 19,
    "start_time": "2024-12-12T04:09:22.187Z"
   },
   {
    "duration": 9,
    "start_time": "2024-12-12T04:09:22.208Z"
   },
   {
    "duration": 17,
    "start_time": "2024-12-12T04:09:22.220Z"
   },
   {
    "duration": 2588,
    "start_time": "2024-12-12T04:09:22.238Z"
   },
   {
    "duration": 3,
    "start_time": "2024-12-12T04:09:24.829Z"
   },
   {
    "duration": 5,
    "start_time": "2024-12-12T04:09:24.833Z"
   },
   {
    "duration": 10,
    "start_time": "2024-12-12T04:09:24.839Z"
   },
   {
    "duration": 9,
    "start_time": "2024-12-12T04:09:24.850Z"
   },
   {
    "duration": 12,
    "start_time": "2024-12-12T04:09:24.860Z"
   },
   {
    "duration": 41,
    "start_time": "2024-12-12T04:09:24.874Z"
   },
   {
    "duration": 12,
    "start_time": "2024-12-12T04:09:24.917Z"
   },
   {
    "duration": 15,
    "start_time": "2024-12-12T04:09:24.931Z"
   },
   {
    "duration": 4,
    "start_time": "2024-12-12T04:09:24.948Z"
   },
   {
    "duration": 7,
    "start_time": "2024-12-12T04:09:24.953Z"
   },
   {
    "duration": 3,
    "start_time": "2024-12-12T04:09:31.102Z"
   },
   {
    "duration": 4,
    "start_time": "2024-12-12T04:09:32.441Z"
   },
   {
    "duration": 9,
    "start_time": "2024-12-12T04:09:33.635Z"
   },
   {
    "duration": 686,
    "start_time": "2024-12-12T04:09:34.498Z"
   },
   {
    "duration": 3,
    "start_time": "2024-12-12T04:09:52.526Z"
   },
   {
    "duration": 9,
    "start_time": "2024-12-12T04:11:38.562Z"
   },
   {
    "duration": 3,
    "start_time": "2024-12-12T04:13:35.317Z"
   },
   {
    "duration": 2,
    "start_time": "2024-12-12T04:13:35.916Z"
   },
   {
    "duration": 10,
    "start_time": "2024-12-12T04:13:36.577Z"
   },
   {
    "duration": 617,
    "start_time": "2024-12-12T04:13:37.173Z"
   },
   {
    "duration": 13,
    "start_time": "2024-12-12T04:14:30.511Z"
   },
   {
    "duration": 637,
    "start_time": "2024-12-12T04:14:40.270Z"
   },
   {
    "duration": 3,
    "start_time": "2024-12-12T04:24:18.278Z"
   },
   {
    "duration": 3,
    "start_time": "2024-12-12T04:24:19.378Z"
   },
   {
    "duration": 13,
    "start_time": "2024-12-12T04:24:20.726Z"
   },
   {
    "duration": 320,
    "start_time": "2024-12-12T04:37:28.725Z"
   },
   {
    "duration": 22,
    "start_time": "2024-12-12T04:37:47.680Z"
   },
   {
    "duration": 3,
    "start_time": "2024-12-12T04:38:02.842Z"
   },
   {
    "duration": 8,
    "start_time": "2024-12-12T04:38:02.847Z"
   },
   {
    "duration": 3,
    "start_time": "2024-12-12T04:38:02.856Z"
   },
   {
    "duration": 8,
    "start_time": "2024-12-12T04:38:02.860Z"
   },
   {
    "duration": 8,
    "start_time": "2024-12-12T04:38:02.870Z"
   },
   {
    "duration": 3,
    "start_time": "2024-12-12T04:38:02.879Z"
   },
   {
    "duration": 8,
    "start_time": "2024-12-12T04:38:02.884Z"
   },
   {
    "duration": 16,
    "start_time": "2024-12-12T04:38:02.893Z"
   },
   {
    "duration": 2590,
    "start_time": "2024-12-12T04:38:02.910Z"
   },
   {
    "duration": 5,
    "start_time": "2024-12-12T04:38:05.501Z"
   },
   {
    "duration": 5,
    "start_time": "2024-12-12T04:38:05.508Z"
   },
   {
    "duration": 9,
    "start_time": "2024-12-12T04:38:05.515Z"
   },
   {
    "duration": 9,
    "start_time": "2024-12-12T04:38:05.525Z"
   },
   {
    "duration": 12,
    "start_time": "2024-12-12T04:38:05.535Z"
   },
   {
    "duration": 20,
    "start_time": "2024-12-12T04:38:05.548Z"
   },
   {
    "duration": 46,
    "start_time": "2024-12-12T04:38:05.569Z"
   },
   {
    "duration": 14,
    "start_time": "2024-12-12T04:38:05.617Z"
   },
   {
    "duration": 3,
    "start_time": "2024-12-12T04:38:05.633Z"
   },
   {
    "duration": 4,
    "start_time": "2024-12-12T04:38:05.638Z"
   },
   {
    "duration": 2,
    "start_time": "2024-12-12T04:38:05.644Z"
   },
   {
    "duration": 3,
    "start_time": "2024-12-12T04:38:05.648Z"
   },
   {
    "duration": 9,
    "start_time": "2024-12-12T04:38:05.652Z"
   },
   {
    "duration": 48,
    "start_time": "2024-12-12T04:38:05.662Z"
   },
   {
    "duration": 633,
    "start_time": "2024-12-12T04:38:05.714Z"
   },
   {
    "duration": 4,
    "start_time": "2024-12-12T04:38:06.348Z"
   },
   {
    "duration": 4,
    "start_time": "2024-12-12T04:38:06.354Z"
   },
   {
    "duration": 48,
    "start_time": "2024-12-12T04:38:06.359Z"
   },
   {
    "duration": 5,
    "start_time": "2024-12-12T04:38:06.408Z"
   },
   {
    "duration": 4,
    "start_time": "2024-12-12T04:38:06.414Z"
   },
   {
    "duration": 4,
    "start_time": "2024-12-12T04:38:06.420Z"
   },
   {
    "duration": 4,
    "start_time": "2024-12-12T04:38:06.425Z"
   },
   {
    "duration": 5,
    "start_time": "2024-12-12T04:38:06.506Z"
   },
   {
    "duration": 7,
    "start_time": "2024-12-12T04:38:06.514Z"
   },
   {
    "duration": 5,
    "start_time": "2024-12-12T04:38:06.523Z"
   },
   {
    "duration": 3,
    "start_time": "2024-12-12T04:38:41.831Z"
   },
   {
    "duration": 3,
    "start_time": "2024-12-12T04:38:50.913Z"
   },
   {
    "duration": 4,
    "start_time": "2024-12-12T04:38:55.059Z"
   },
   {
    "duration": 20,
    "start_time": "2024-12-12T04:38:58.216Z"
   },
   {
    "duration": 3,
    "start_time": "2024-12-12T04:44:52.406Z"
   },
   {
    "duration": 5,
    "start_time": "2024-12-12T04:44:53.015Z"
   },
   {
    "duration": 18,
    "start_time": "2024-12-12T04:44:53.983Z"
   },
   {
    "duration": 15,
    "start_time": "2024-12-12T04:46:06.887Z"
   },
   {
    "duration": 17,
    "start_time": "2024-12-12T04:53:36.057Z"
   },
   {
    "duration": 7,
    "start_time": "2024-12-12T04:59:08.639Z"
   },
   {
    "duration": 4,
    "start_time": "2024-12-12T04:59:09.963Z"
   },
   {
    "duration": 23,
    "start_time": "2024-12-12T04:59:11.237Z"
   },
   {
    "duration": 3,
    "start_time": "2024-12-12T05:00:37.884Z"
   },
   {
    "duration": 5,
    "start_time": "2024-12-12T05:00:40.272Z"
   },
   {
    "duration": 26,
    "start_time": "2024-12-12T05:00:41.091Z"
   },
   {
    "duration": 16,
    "start_time": "2024-12-12T05:00:47.201Z"
   },
   {
    "duration": 18,
    "start_time": "2024-12-12T05:00:51.146Z"
   },
   {
    "duration": 18,
    "start_time": "2024-12-12T05:00:54.347Z"
   },
   {
    "duration": 3,
    "start_time": "2024-12-12T05:08:50.131Z"
   },
   {
    "duration": 4,
    "start_time": "2024-12-12T05:08:52.603Z"
   },
   {
    "duration": 21,
    "start_time": "2024-12-12T05:08:54.113Z"
   },
   {
    "duration": 716,
    "start_time": "2024-12-12T05:09:01.917Z"
   },
   {
    "duration": 3,
    "start_time": "2024-12-12T05:15:21.198Z"
   },
   {
    "duration": 4,
    "start_time": "2024-12-12T05:15:34.273Z"
   },
   {
    "duration": 40,
    "start_time": "2024-12-12T05:16:04.207Z"
   },
   {
    "duration": 4,
    "start_time": "2024-12-12T05:16:23.276Z"
   },
   {
    "duration": 19,
    "start_time": "2024-12-12T05:18:59.936Z"
   },
   {
    "duration": 17,
    "start_time": "2024-12-12T05:23:18.095Z"
   }
  ],
  "kernelspec": {
   "display_name": "tripletenvenv",
   "language": "python",
   "name": "python3"
  },
  "language_info": {
   "codemirror_mode": {
    "name": "ipython",
    "version": 3
   },
   "file_extension": ".py",
   "mimetype": "text/x-python",
   "name": "python",
   "nbconvert_exporter": "python",
   "pygments_lexer": "ipython3",
   "version": "3.9.6"
  },
  "toc": {
   "base_numbering": 1,
   "nav_menu": {},
   "number_sections": true,
   "sideBar": true,
   "skip_h1_title": true,
   "title_cell": "Table of Contents",
   "title_sidebar": "Contents",
   "toc_cell": false,
   "toc_position": {
    "height": "calc(100% - 180px)",
    "left": "10px",
    "top": "150px",
    "width": "165px"
   },
   "toc_section_display": true,
   "toc_window_display": false
  }
 },
 "nbformat": 4,
 "nbformat_minor": 4
}
