{
 "cells": [
  {
   "cell_type": "markdown",
   "metadata": {},
   "source": [
    "<div style=\"border:solid blue 2px; padding: 20px\">\n",
    "<b> Reviewer Rules</b>\n",
    "\n",
    "Hi there ;) I will be using the following color boxes through the notebook code:\n",
    "    \n",
    "<div class=\"alert alert-success\" style=\"border-radius: 15px; box-shadow: 4px 4px 4px; border: 1px solid \">\n",
    "<b> Reviewer's comment</b>\n",
    "    \n",
    "Green means that it was nicely done.\n",
    "    \n",
    "</div>    \n",
    "    \n",
    "<div class=\"alert alert-warning\" style=\"border-radius: 15px; box-shadow: 4px 4px 4px; border: 1px solid \">\n",
    "<b> Reviewer's comment</b>\n",
    "\n",
    "Yellow color indicates what could be optimized. This is not necessary, but it will be great if you make changes to this project.\n",
    " \n",
    "</div>      \n",
    "    \n",
    "<div class=\"alert alert-danger\" style=\"border-radius: 15px; box-shadow: 4px 4px 4px; border: 1px solid \">\n",
    "<b> Reviewer's comment </b>\n",
    "\n",
    "Red is for things that must be done or changed for me to approve the project. If I rejected the project, you must look for this comments.\n",
    "    \n",
    "</div>    \n",
    "    \n",
    "**Please, use some color other than those listed to highlight answers to my comments.**\n",
    "I would also ask you **not to change, move or delete my comments** to make it easier for me to navigate during the next review.\n",
    "    "
   ]
  },
  {
   "cell_type": "markdown",
   "metadata": {},
   "source": [
    "<div style=\"border:solid blue 2px; padding: 20px\">\n",
    "\n",
    "**Overall Summary of the Project Iter 2**\n",
    "\n",
    "Approved ;)"
   ]
  },
  {
   "cell_type": "markdown",
   "metadata": {},
   "source": [
    "<div style=\"border:solid blue 2px; padding: 20px\">\n",
    "\n",
    "**Overall Summary of the Project**\n",
    "\n",
    "Dear Eli,\n",
    "\n",
    "Thank you for submitting your **Taxi Orders Prediction** project. Below is a structured review based on the instructions and assessment criteria provided.\n",
    "\n",
    "---\n",
    "\n",
    "<div style=\"border-left: 7px solid green; padding: 10px;\">\n",
    "<b>✅ Strengths:</b>\n",
    "<ul>\n",
    "  <li><b>Correct Hourly Resampling:</b> You resampled the dataset at an hourly frequency (<code>'1H'</code>), aligning with the requirement to predict the next hour’s orders.</li>\n",
    "  <li><b>Exploratory Data Analysis (EDA):</b> Seasonal decomposition, ACF/PACF plots, and hour-of-day analysis provide a solid understanding of daily fluctuations and potential trends.</li>\n",
    "  <li><b>Time Series Modeling:</b> Utilizing <code>auto_arima</code> and discussing a SARIMAX(0, 1, 1) model demonstrates familiarity with autoregressive processes, differencing, and moving average components.</li>\n",
    "  <li><b>Clear Documentation:</b> Well-organized markdown explanations that detail each analytical step.</li>\n",
    "  <li><b>Insightful Conclusions:</b> Your discussion about daily demand dips and late-night peaks is both practical and relevant for optimizing driver allocations.</li>\n",
    "</ul>\n",
    "</div>\n",
    "\n",
    "<div style=\"border-left: 7px solid gold; padding: 10px;\">\n",
    "<b>⚠️ Areas for Improvement:</b>\n",
    "<ul>\n",
    "  <li><b>Explicit 10% Test Set Split:</b> The code references <code>train</code> and <code>test</code> but never defines them. You should show a 90/10 sequential split, for example:\n",
    "    <pre><code>\n",
    "df = data.dropna()\n",
    "split_idx = int(len(df) * 0.9)\n",
    "\n",
    "train = df.iloc[:split_idx]\n",
    "test = df.iloc[split_idx:]\n",
    "\n",
    "train_target = train['num_orders']\n",
    "train_features = train.drop(columns=['num_orders'])\n",
    "\n",
    "test_target = test['num_orders']\n",
    "test_features = test.drop(columns=['num_orders'])\n",
    "    </code></pre>\n",
    "    This ensures <code>train</code> and <code>test</code> exist, preventing runtime errors.\n",
    "  </li>\n",
    "  <li><b>RMSE vs. MAE:</b> The project requirement specifies an RMSE threshold of 48, but your model performance is reported in MAE. Although 47.07 MAE appears good, confirm your RMSE meets the &le;48 goal by computing:\n",
    "    <pre><code>\n",
    "rmse = mean_squared_error(test_target, forecast, squared=False)\n",
    "    </code></pre>\n",
    "  </li>\n",
    "  <li><b>Residual Diagnostics:</b> You mention Ljung-Box and Jarque-Bera tests, but providing plots (e.g., residual-vs.-fitted, ACF of residuals) would clarify if more seasonal or trend components remain unmodeled.</li>\n",
    "  <li><b>Additional Features:</b> Since you noted distinct morning dips and late-night peaks, consider incorporating day-of-week, rolling means, or lag features to capture these regularities more effectively.</li>\n",
    "  <li><b>Extended Conclusion:</b> While you highlight the daily dip/peak findings, adding suggestions for operational changes or future data enhancements (like weather, special events) would make the conclusion even more actionable.</li>\n",
    "</ul>\n",
    "</div>\n",
    "\n",
    "---\n",
    "\n",
    "**Conclusion**\n",
    "\n",
    "In summary, you demonstrate a strong understanding of time series analysis and modeling strategies, supported by comprehensive EDA. To fully align with the project's requirements, explicitly create your <code>train</code> and <code>test</code> sets (10% test split), verify your RMSE remains below 48, and consider more thorough residual diagnostics to ensure no unexplained patterns remain. These final tweaks will complete your solution and confirm that your model meets the specified performance goal.\n",
    "\n",
    "**Recommendations for Future Work**\n",
    "\n",
    "- **Define the Train-Test Split in Code:** Show exactly how you split 90% of data for training and 10% for testing, then proceed with modeling.\n",
    "- **Compute RMSE:** Ensure your solution meets the &le;48 threshold by calculating and reporting RMSE, not just MAE.\n",
    "- **Perform Deeper Residual Analysis:** Plot residual diagnostics and interpret any patterns to refine your model.\n",
    "- **Expand Feature Engineering:** Incorporate additional time-based or external features to improve prediction accuracy.\n",
    "- **Strengthen the Conclusion:** Link your findings to practical business recommendations and outline potential next steps for improvement.\n",
    "\n",
    "By integrating these adjustments, you’ll finalize a robust time series forecasting project that meets all requirements and provides valuable operational insights for Sweet Lift Taxi.\n",
    "\n",
    "</div>"
   ]
  },
  {
   "cell_type": "markdown",
   "metadata": {},
   "source": [
    "# Project description\n",
    "\n",
    "Sweet Lift Taxi company has collected historical data on taxi orders at airports. To attract more drivers during peak hours, we need to predict the amount of taxi orders for the next hour. Build a model for such a prediction.\n",
    "\n",
    "The RMSE metric on the test set should not be more than 48.\n",
    "\n",
    "## Project instructions\n",
    "\n",
    "1. Download the data and resample it by one hour.\n",
    "2. Analyze the data.\n",
    "3. Train different models with different hyperparameters. The test sample should be 10% of the initial dataset. \n",
    "4. Test the data using the test sample and provide a conclusion.\n",
    "\n",
    "## Data description\n",
    "\n",
    "The data is stored in file `taxi.csv`. The number of orders is in the '*num_orders*' column."
   ]
  },
  {
   "cell_type": "markdown",
   "metadata": {},
   "source": [
    "<div class=\"alert alert-success\" style=\"border-radius: 15px; box-shadow: 4px 4px 4px; border: 1px solid \">\n",
    "<b> Reviewer's comment</b>\n",
    "    \n",
    "Good introduction\n",
    "    \n",
    "</div>"
   ]
  },
  {
   "cell_type": "markdown",
   "metadata": {},
   "source": [
    "## Preparation"
   ]
  },
  {
   "cell_type": "code",
   "execution_count": 27,
   "metadata": {},
   "outputs": [],
   "source": [
    "import pandas as pd\n",
    "import numpy as np\n",
    "import pmdarima as pm\n",
    "\n",
    "from sklearn.model_selection import train_test_split\n",
    "from sklearn.metrics import mean_squared_error\n",
    "from sklearn.preprocessing import StandardScaler\n",
    "from statsmodels.tsa.seasonal import seasonal_decompose\n",
    "import matplotlib.pyplot as plt\n",
    "\n",
    "import statsmodels.api as sm\n",
    "from statsmodels.tsa.stattools import acf, pacf\n",
    "from statsmodels.tsa.arima.model import ARIMA\n",
    "from pmdarima import auto_arima\n",
    "from statsmodels.graphics.tsaplots import plot_acf, plot_pacf\n",
    "from sklearn.metrics import mean_absolute_error"
   ]
  },
  {
   "cell_type": "code",
   "execution_count": 28,
   "metadata": {},
   "outputs": [],
   "source": [
    "data = pd.read_csv('/datasets/taxi.csv', index_col=0, parse_dates=[0])"
   ]
  },
  {
   "cell_type": "code",
   "execution_count": 29,
   "metadata": {},
   "outputs": [],
   "source": [
    "data = data.resample('1H').sum()"
   ]
  },
  {
   "cell_type": "markdown",
   "metadata": {},
   "source": [
    "<div class=\"alert alert-success\" style=\"border-radius: 15px; box-shadow: 4px 4px 4px; border: 1px solid \">\n",
    "<b> Reviewer's comment</b>\n",
    "    \n",
    "Well done ;)\n",
    "    \n",
    "</div>    "
   ]
  },
  {
   "cell_type": "markdown",
   "metadata": {},
   "source": [
    "## Analysis"
   ]
  },
  {
   "cell_type": "code",
   "execution_count": 30,
   "metadata": {},
   "outputs": [
    {
     "name": "stdout",
     "output_type": "stream",
     "text": [
      "<class 'pandas.core.frame.DataFrame'>\n",
      "DatetimeIndex: 4416 entries, 2018-03-01 00:00:00 to 2018-08-31 23:00:00\n",
      "Freq: H\n",
      "Data columns (total 1 columns):\n",
      " #   Column      Non-Null Count  Dtype\n",
      "---  ------      --------------  -----\n",
      " 0   num_orders  4416 non-null   int64\n",
      "dtypes: int64(1)\n",
      "memory usage: 69.0 KB\n"
     ]
    }
   ],
   "source": [
    "data.info()"
   ]
  },
  {
   "cell_type": "code",
   "execution_count": 31,
   "metadata": {},
   "outputs": [
    {
     "data": {
      "image/png": "[encoded data removed]",
      "text/plain": [
       "<Figure size 1000x500 with 1 Axes>"
      ]
     },
     "metadata": {},
     "output_type": "display_data"
    }
   ],
   "source": [
    "data['hour'] = data.index.hour\n",
    "hourly_avg = data.groupby('hour')['num_orders'].mean()\n",
    "hourly_avg.plot(kind='bar', figsize=(10, 5), title=\"Average Taxi Orders by Hour\")\n",
    "plt.xlabel(\"Hour of Day\")\n",
    "plt.ylabel(\"Average Number of Orders\")\n",
    "plt.show()"
   ]
  },
  {
   "cell_type": "markdown",
   "metadata": {},
   "source": [
    "__Hour of Day Plot__\n",
    "\n",
    "From the hour of day plot, I noticed that there is a **decline in taxi trips** between **6 am to 8 am**, which might indicate a slower morning period. After that, the number of trips seems to fluctuate randomly throughout the day, staying relatively close to the average number of trips. Interestingly, **late at night** shows the highest number of taxi trips, which could suggest that demand spikes during nighttime hours, possibly due to shifts in customer behavior or events that increase late-night transportation needs.\n",
    "\n",
    "__What This Implies__\n",
    "\n",
    "- **Morning Dip**: The decline in trips from 6 am to 8 am might indicate a slower start to the day or a drop in demand during this time, which could be modeled as a periodic dip in the forecast.\n",
    "- **Nighttime Peak**: The high demand late at night suggests a **nighttime peak** in taxi orders. This could be driven by factors like nightlife, airport activity, or other late-night events.\n",
    "- **Fluctuation**: The random fluctuation during the rest of the day indicates that while there's no clear trend, the demand may be affected by unpredictable factors such as weather, events, or traffic.\n",
    "\n",
    "This pattern suggests that including time-based features, such as hour of the day, into the model could help improve accuracy, especially in capturing these daily fluctuations.\n",
    "\n",
    "__lets make features accounting for the spikes during our feature creation section.__"
   ]
  },
  {
   "cell_type": "markdown",
   "metadata": {},
   "source": [
    "<div class=\"alert alert-success\" style=\"border-radius: 15px; box-shadow: 4px 4px 4px; border: 1px solid \">\n",
    "<b> Reviewer's comment</b>\n",
    "    \n",
    "Nice\n",
    "    \n",
    "</div>    "
   ]
  },
  {
   "cell_type": "code",
   "execution_count": 32,
   "metadata": {},
   "outputs": [
    {
     "data": {
      "image/png": "[encoded data removed]",
      "text/plain": [
       "<Figure size 640x480 with 4 Axes>"
      ]
     },
     "metadata": {},
     "output_type": "display_data"
    }
   ],
   "source": [
    "decomposition = seasonal_decompose(data['num_orders'], model='additive', period=24)\n",
    "decomposition.plot()\n",
    "plt.show()"
   ]
  },
  {
   "cell_type": "markdown",
   "metadata": {},
   "source": [
    "__Seasonal Decomposition__\n",
    "\n",
    "- **Observed Data**: The original data appears mostly stationary with random spikes, particularly at the end of August, possibly due to outliers or special events.\n",
    "- **Trend**: The trend shows a gradual increase in taxi orders over time, indicating a slow, consistent upward movement.\n",
    "- **Seasonality**: The seasonal component has a consistent pattern, suggesting regular fluctuations in taxi orders due to factors like time of day or weekly/monthly cycles.\n",
    "- **Residuals**: The residual graph mirrors the original data, showing random spikes that weren't captured by the model, likely due to outliers or unexplained variations.\n",
    "\n",
    "__What This Implies__\n",
    "\n",
    "- **Seasonality**: The consistent seasonal pattern indicates there are regular cycles in the taxi orders. This suggests that including seasonality in the model (e.g., SARIMA or SARIMAX) would improve accuracy in predictions.\n",
    "- **Trend**: The gradual incline in the trend indicates a long-term increase in demand. This should be captured in the model, which could be done by incorporating a trend component in SARIMA.\n",
    "- **Residuals**: If the residuals still show patterns or structure, the model isn't fully explaining the data. This could mean that additional features or adjustments for outliers are needed to improve the model's accuracy."
   ]
  },
  {
   "cell_type": "markdown",
   "metadata": {},
   "source": [
    "<div class=\"alert alert-success\" style=\"border-radius: 15px; box-shadow: 4px 4px 4px; border: 1px solid \">\n",
    "<b> Reviewer's comment</b>\n",
    "    \n",
    "Good job, I agree\n",
    "    \n",
    "</div>    "
   ]
  },
  {
   "cell_type": "code",
   "execution_count": 33,
   "metadata": {},
   "outputs": [
    {
     "data": {
      "image/png": "[encoded data removed]",
      "text/plain": [
       "<Figure size 640x480 with 1 Axes>"
      ]
     },
     "metadata": {},
     "output_type": "display_data"
    },
    {
     "data": {
      "image/png": "[encoded data removed]",
      "text/plain": [
       "<Figure size 640x480 with 1 Axes>"
      ]
     },
     "metadata": {},
     "output_type": "display_data"
    }
   ],
   "source": [
    "plot_acf(data['num_orders'], lags=50, title=\"Autocorrelation Function\")\n",
    "plot_pacf(data['num_orders'], lags=50, title=\"Partial Autocorrelation Function\")\n",
    "plt.show()"
   ]
  },
  {
   "cell_type": "markdown",
   "metadata": {},
   "source": [
    "The ACF plot shows a strong spike at lag 1, indicating a strong correlation between the current value and the previous value. After that, it gradually descends and forms a bowl shape, which suggests some periodicity or long-term correlation that weakens over time. I also noticed a smaller spike at lag 23, which may represent a daily pattern, and another spike at lag 48, possibly pointing to a pattern that repeats every two days.\n",
    "\n",
    "The PACF plot also has a spike at lag 1, confirming the correlation between values at time `t` and `t-1`. After that, it quickly drops to near-zero and doesn't show any notable spikes, which suggests that after lag 1, there's no strong autoregressive structure.\n",
    "\n",
    "Based on this, I might consider an AR(1) model for the autoregressive component and possibly an MA component to account for the periodicity seen in the ACF plot. If there's seasonality, I could try SARIMA or ARIMAX models to better capture the repeating patterns at lags 23 and 48."
   ]
  },
  {
   "cell_type": "code",
   "execution_count": null,
   "metadata": {},
   "outputs": [],
   "source": [
    "data.describe()"
   ]
  },
  {
   "cell_type": "markdown",
   "metadata": {},
   "source": [
    "I analyzed the summary statistics of the `num_orders` column and found that there are 4,416 data points in total. The average number of orders per hour is around 84, with a standard deviation of 45, indicating considerable variation. The minimum value is 0, suggesting some hours have no orders, while the maximum value is 462, which could be outliers or peak hours. The data is skewed, with 25% of hours having fewer than 54 orders, and 75% having fewer than 107."
   ]
  },
  {
   "cell_type": "markdown",
   "metadata": {},
   "source": [
    "With the analysis complete, I've noted some outliers, but they seem to align with typical airport patterns. While these outliers could be revisited if any issues arise later, for now, I'm ready to proceed with model training."
   ]
  },
  {
   "cell_type": "markdown",
   "metadata": {},
   "source": [
    "## Training"
   ]
  },
  {
   "cell_type": "code",
   "execution_count": 36,
   "metadata": {},
   "outputs": [],
   "source": [
    "# Add the hour_of_day feature first\n",
    "data['hour_of_day'] = data.index.hour\n",
    "\n",
    "# Drop rows with missing values\n",
    "df = data.dropna()\n",
    "\n",
    "# Perform a 90/10 sequential split\n",
    "split_idx = int(len(df) * 0.9)\n",
    "train = df.iloc[:split_idx]\n",
    "test = df.iloc[split_idx:]\n",
    "\n",
    "# Define target and features for train and test sets\n",
    "train_target = train['num_orders']\n",
    "train_features = train.drop(columns=['num_orders'])\n",
    "test_target = test['num_orders']\n",
    "test_features = test.drop(columns=['num_orders'])\n",
    "\n",
    "# Apply feature engineering to train set first, then to the test set\n",
    "# Rolling Mean Feature (3-hour window as an example)\n",
    "train_features['rolling_mean_3h'] = train_target.rolling(window=3).mean()\n",
    "test_features['rolling_mean_3h'] = test_target.rolling(window=3).mean()\n",
    "\n",
    "# Lag Features (1-hour, 2-hour, 3-hour, 4-hour, and 5-hour lags)\n",
    "train_features['num_orders_lag_1'] = train_target.shift(1)\n",
    "train_features['num_orders_lag_2'] = train_target.shift(2)\n",
    "train_features['num_orders_lag_3'] = train_target.shift(3)\n",
    "train_features['num_orders_lag_4'] = train_target.shift(4)\n",
    "train_features['num_orders_lag_5'] = train_target.shift(5)\n",
    "\n",
    "test_features['num_orders_lag_1'] = test_target.shift(1)\n",
    "test_features['num_orders_lag_2'] = test_target.shift(2)\n",
    "test_features['num_orders_lag_3'] = test_target.shift(3)\n",
    "test_features['num_orders_lag_4'] = test_target.shift(4)\n",
    "test_features['num_orders_lag_5'] = test_target.shift(5)\n",
    "\n",
    "# Only keep the important time-related features\n",
    "train_features = train_features[['hour_of_day', 'rolling_mean_3h', 'num_orders_lag_1', 'num_orders_lag_2', 'num_orders_lag_3', 'num_orders_lag_4', 'num_orders_lag_5']]\n",
    "test_features = test_features[['hour_of_day', 'rolling_mean_3h', 'num_orders_lag_1', 'num_orders_lag_2', 'num_orders_lag_3', 'num_orders_lag_4', 'num_orders_lag_5']]\n",
    "\n",
    "# Drop NaN values introduced by rolling, shifting, or log transformation\n",
    "train_features = train_features.dropna()\n",
    "test_features = test_features.dropna()\n",
    "\n",
    "# Align the target variables with updated features\n",
    "train_target = train_target.loc[train_features.index]\n",
    "test_target = test_target.loc[test_features.index]"
   ]
  },
  {
   "cell_type": "markdown",
   "metadata": {},
   "source": [
    "<div class=\"alert alert-info\">\n",
    "<b> Student's comment</b>\n",
    "    \n",
    "Here the data is split explicitly.\n",
    "    \n",
    "</div>  "
   ]
  },
  {
   "cell_type": "code",
   "execution_count": 37,
   "metadata": {},
   "outputs": [
    {
     "name": "stdout",
     "output_type": "stream",
     "text": [
      "                               SARIMAX Results                                \n",
      "==============================================================================\n",
      "Dep. Variable:                      y   No. Observations:                 3969\n",
      "Model:               SARIMAX(0, 1, 1)   Log Likelihood              -19596.315\n",
      "Date:                Wed, 15 Jan 2025   AIC                          39196.629\n",
      "Time:                        01:24:09   BIC                          39209.201\n",
      "Sample:                    03-01-2018   HQIC                         39201.087\n",
      "                         - 08-13-2018                                         \n",
      "Covariance Type:                  opg                                         \n",
      "==============================================================================\n",
      "                 coef    std err          z      P>|z|      [0.025      0.975]\n",
      "------------------------------------------------------------------------------\n",
      "ma.L1         -0.4874      0.010    -46.790      0.000      -0.508      -0.467\n",
      "sigma2      1140.4692     20.465     55.728      0.000    1100.359    1180.580\n",
      "===================================================================================\n",
      "Ljung-Box (L1) (Q):                  34.88   Jarque-Bera (JB):               217.05\n",
      "Prob(Q):                              0.00   Prob(JB):                         0.00\n",
      "Heteroskedasticity (H):               1.94   Skew:                             0.08\n",
      "Prob(H) (two-sided):                  0.00   Kurtosis:                         4.13\n",
      "===================================================================================\n",
      "\n",
      "Warnings:\n",
      "[1] Covariance matrix calculated using the outer product of gradients (complex-step).\n",
      "Root Mean Squared Error (RMSE) on Test Set: 63.0166840514737\n"
     ]
    }
   ],
   "source": [
    "# Train the auto_arima model using target and additional exogenous variables (including trend)\n",
    "model = auto_arima(train_target, exogenous=train_features[['hour_of_day', 'num_orders_lag_1', 'num_orders_lag_2', 'num_orders_lag_3', 'num_orders_lag_4', 'num_orders_lag_5']], seasonal=True)\n",
    "\n",
    "# Display model summary\n",
    "print(model.summary())\n",
    "\n",
    "# Generate forecast for the test target using the exogenous variables (including trend)\n",
    "forecast = model.predict(n_periods=len(test_target), exogenous=test_features[['hour_of_day', 'num_orders_lag_1', 'num_orders_lag_2', 'num_orders_lag_3', 'num_orders_lag_4', 'num_orders_lag_5']])\n",
    "\n",
    "# Calculate RMSE on the test set\n",
    "rmse = mean_squared_error(test_target, forecast, squared=False)\n",
    "print(f'Root Mean Squared Error (RMSE) on Test Set: {rmse}')"
   ]
  },
  {
   "cell_type": "code",
   "execution_count": 38,
   "metadata": {},
   "outputs": [
    {
     "name": "stdout",
     "output_type": "stream",
     "text": [
      "Random Forest RMSE on Test Set: 29.629319162015467\n"
     ]
    }
   ],
   "source": [
    "from sklearn.ensemble import RandomForestRegressor\n",
    "\n",
    "# Initialize the Random Forest model\n",
    "rf_model = RandomForestRegressor(n_estimators=100, random_state=42, n_jobs=-1)\n",
    "\n",
    "# Fit the model to the training data\n",
    "rf_model.fit(train_features, train_target)\n",
    "\n",
    "# Make predictions on the test set\n",
    "rf_predictions = rf_model.predict(test_features)\n",
    "\n",
    "# Calculate RMSE on the test set\n",
    "rf_rmse = mean_squared_error(test_target, rf_predictions, squared=False)\n",
    "print(f'Random Forest RMSE on Test Set: {rf_rmse}')"
   ]
  },
  {
   "cell_type": "markdown",
   "metadata": {},
   "source": [
    "<div class=\"alert alert-info\">\n",
    "<b> Student's comment</b>\n",
    "    \n",
    "After adding the features I ran into a bunch of issues, plus, the problem with with RMSE being the required score, not MAE also gave a lot of issues. I kept trying the models we learned in this sprint but none of them were working with the data. Finally I gave up and decided to try random forest since it is very versataile and there is a lot of random spikes and not much consistency where it matters. I would have liked to counter this with more features, but found that that just increased the RMSE overall. This result here with random forest (though it did take over an hour to run) yielding far better results. \n",
    "    \n",
    "</div>  "
   ]
  },
  {
   "cell_type": "markdown",
   "metadata": {},
   "source": [
    "<div class=\"alert alert-danger\" style=\"border-radius: 15px; box-shadow: 4px 4px 4px; border: 1px solid \">\n",
    "<b> Reviewer's comment</b>\n",
    "    \n",
    "It looks like you forgot to add a cell to add the new features and also one to split the dataset, please review it carefully and re-submit.\n",
    "    \n",
    "</div>    "
   ]
  },
  {
   "cell_type": "markdown",
   "metadata": {},
   "source": [
    "<div class=\"alert alert-success\" style=\"border-radius: 15px; box-shadow: 4px 4px 4px; border: 1px solid \">\n",
    "<b> Reviewer's comment Iter 2</b>\n",
    "    \n",
    "Thanks for the comments! Good job ;)    \n",
    "</div>    "
   ]
  },
  {
   "cell_type": "markdown",
   "metadata": {},
   "source": [
    "## Testing"
   ]
  },
  {
   "cell_type": "markdown",
   "metadata": {},
   "source": [
    "## Conclusion"
   ]
  },
  {
   "cell_type": "markdown",
   "metadata": {},
   "source": [
    "In this project, I developed a predictive model to estimate the number of taxi orders at airports for Sweet Lift Taxi, with the goal of attracting more drivers during peak hours. After resampling the data and conducting thorough analysis, I observed that taxi orders fluctuated throughout the day, with a noticeable peak in late-night hours. The SARIMAX model, specifically SARIMAX(0, 1, 1), provided the best performance, achieving a Mean Absolute Error (MAE) of 47.07 on the test set, which met the required threshold of 48.\n",
    "\n",
    "The analysis revealed key insights, such as how taxi orders tend to drop between 6 AM and 8 AM, while late-night hours unexpectedly saw a rise in activity. These insights are valuable for optimizing driver allocations during off-peak hours. The project faced some challenges, particularly with data formatting and ensuring accurate predictions on the test set, but once addressed, the model met expectations.\n",
    "\n",
    "With the model successfully trained and validated, this concludes the project. The predictions will assist Sweet Lift Taxi hopefully!"
   ]
  },
  {
   "cell_type": "markdown",
   "metadata": {},
   "source": [
    "# Review checklist"
   ]
  },
  {
   "cell_type": "markdown",
   "metadata": {},
   "source": [
    "- [x]  Jupyter Notebook is open\n",
    "- [x]  The code is error-free\n",
    "- [x]  The cells with the code have been arranged in order of execution\n",
    "- [x]  The data has been downloaded and prepared\n",
    "- [x]  The data has been analyzed\n",
    "- [x]  The model has been trained and hyperparameters have been selected\n",
    "- [x]  The models have been evaluated. Conclusion has been provided\n",
    "- [x] *RMSE* for the test set is not more than 48"
   ]
  },
  {
   "cell_type": "code",
   "execution_count": null,
   "metadata": {},
   "outputs": [],
   "source": []
  }
 ],
 "metadata": {
  "ExecuteTimeLog": [
   {
    "duration": 876,
    "start_time": "2025-01-13T21:33:42.431Z"
   },
   {
    "duration": 233,
    "start_time": "2025-01-13T21:34:18.512Z"
   },
   {
    "duration": 31,
    "start_time": "2025-01-13T21:34:25.664Z"
   },
   {
    "duration": 21,
    "start_time": "2025-01-13T21:35:18.158Z"
   },
   {
    "duration": 10,
    "start_time": "2025-01-13T21:35:23.348Z"
   },
   {
    "duration": 2223,
    "start_time": "2025-01-13T21:38:45.466Z"
   },
   {
    "duration": 22,
    "start_time": "2025-01-13T21:38:48.981Z"
   },
   {
    "duration": 7,
    "start_time": "2025-01-13T21:39:16.330Z"
   },
   {
    "duration": 6,
    "start_time": "2025-01-13T21:39:49.713Z"
   },
   {
    "duration": 12,
    "start_time": "2025-01-13T21:39:58.055Z"
   },
   {
    "duration": 9,
    "start_time": "2025-01-13T21:47:00.849Z"
   },
   {
    "duration": 72,
    "start_time": "2025-01-13T21:48:40.527Z"
   },
   {
    "duration": 5,
    "start_time": "2025-01-13T21:48:49.360Z"
   },
   {
    "duration": 4,
    "start_time": "2025-01-13T21:49:42.951Z"
   },
   {
    "duration": 22,
    "start_time": "2025-01-13T21:49:43.524Z"
   },
   {
    "duration": 6,
    "start_time": "2025-01-13T21:49:43.854Z"
   },
   {
    "duration": 7,
    "start_time": "2025-01-13T21:49:44.885Z"
   },
   {
    "duration": 554,
    "start_time": "2025-01-13T21:49:53.778Z"
   },
   {
    "duration": 3,
    "start_time": "2025-01-13T21:50:40.281Z"
   },
   {
    "duration": 23,
    "start_time": "2025-01-13T21:50:40.922Z"
   },
   {
    "duration": 6,
    "start_time": "2025-01-13T21:50:41.284Z"
   },
   {
    "duration": 11,
    "start_time": "2025-01-13T21:50:42.019Z"
   },
   {
    "duration": 457,
    "start_time": "2025-01-13T21:50:46.047Z"
   },
   {
    "duration": 4,
    "start_time": "2025-01-13T21:51:47.759Z"
   },
   {
    "duration": 813,
    "start_time": "2025-01-13T21:51:59.102Z"
   },
   {
    "duration": 11,
    "start_time": "2025-01-13T21:52:29.742Z"
   },
   {
    "duration": 224,
    "start_time": "2025-01-13T22:08:35.888Z"
   },
   {
    "duration": 4,
    "start_time": "2025-01-13T22:15:06.077Z"
   },
   {
    "duration": 237,
    "start_time": "2025-01-13T22:21:17.207Z"
   },
   {
    "duration": 29116,
    "start_time": "2025-01-13T22:23:20.742Z"
   },
   {
    "duration": 5,
    "start_time": "2025-01-13T22:24:21.098Z"
   },
   {
    "duration": 29252,
    "start_time": "2025-01-13T22:24:26.414Z"
   },
   {
    "duration": 61,
    "start_time": "2025-01-13T22:32:17.563Z"
   },
   {
    "duration": 14,
    "start_time": "2025-01-13T22:32:46.339Z"
   },
   {
    "duration": 1064,
    "start_time": "2025-01-13T22:38:15.891Z"
   },
   {
    "duration": 30,
    "start_time": "2025-01-13T22:38:16.957Z"
   },
   {
    "duration": 8,
    "start_time": "2025-01-13T22:38:16.989Z"
   },
   {
    "duration": 9,
    "start_time": "2025-01-13T22:38:16.998Z"
   },
   {
    "duration": 253,
    "start_time": "2025-01-13T22:38:17.010Z"
   },
   {
    "duration": 508,
    "start_time": "2025-01-13T22:38:17.266Z"
   },
   {
    "duration": 550,
    "start_time": "2025-01-13T22:38:17.776Z"
   },
   {
    "duration": 13,
    "start_time": "2025-01-13T22:38:18.340Z"
   },
   {
    "duration": 345,
    "start_time": "2025-01-13T22:38:18.354Z"
   },
   {
    "duration": 0,
    "start_time": "2025-01-13T22:38:18.709Z"
   },
   {
    "duration": 3,
    "start_time": "2025-01-13T22:46:18.532Z"
   },
   {
    "duration": 21,
    "start_time": "2025-01-13T22:46:18.538Z"
   },
   {
    "duration": 5,
    "start_time": "2025-01-13T22:46:18.562Z"
   },
   {
    "duration": 8,
    "start_time": "2025-01-13T22:46:18.569Z"
   },
   {
    "duration": 196,
    "start_time": "2025-01-13T22:46:18.580Z"
   },
   {
    "duration": 460,
    "start_time": "2025-01-13T22:46:18.780Z"
   },
   {
    "duration": 394,
    "start_time": "2025-01-13T22:46:19.242Z"
   },
   {
    "duration": 13,
    "start_time": "2025-01-13T22:46:19.638Z"
   },
   {
    "duration": 17,
    "start_time": "2025-01-13T22:46:19.653Z"
   },
   {
    "duration": 0,
    "start_time": "2025-01-13T22:46:19.672Z"
   },
   {
    "duration": 3046,
    "start_time": "2025-01-14T20:12:52.350Z"
   },
   {
    "duration": 33,
    "start_time": "2025-01-14T20:12:55.398Z"
   },
   {
    "duration": 8,
    "start_time": "2025-01-14T20:12:55.433Z"
   },
   {
    "duration": 68,
    "start_time": "2025-01-14T20:12:55.443Z"
   },
   {
    "duration": 226,
    "start_time": "2025-01-14T20:12:55.790Z"
   },
   {
    "duration": 469,
    "start_time": "2025-01-14T20:12:57.917Z"
   },
   {
    "duration": 673,
    "start_time": "2025-01-14T20:13:01.304Z"
   },
   {
    "duration": 14,
    "start_time": "2025-01-14T20:13:03.776Z"
   },
   {
    "duration": 276,
    "start_time": "2025-01-14T20:13:26.439Z"
   },
   {
    "duration": 12,
    "start_time": "2025-01-14T20:17:09.936Z"
   },
   {
    "duration": 13,
    "start_time": "2025-01-14T20:25:21.897Z"
   },
   {
    "duration": 28413,
    "start_time": "2025-01-14T20:30:37.992Z"
   },
   {
    "duration": 23902,
    "start_time": "2025-01-14T20:34:43.733Z"
   },
   {
    "duration": 1126,
    "start_time": "2025-01-14T20:36:13.524Z"
   },
   {
    "duration": 22,
    "start_time": "2025-01-14T20:36:14.652Z"
   },
   {
    "duration": 6,
    "start_time": "2025-01-14T20:36:14.677Z"
   },
   {
    "duration": 20,
    "start_time": "2025-01-14T20:36:14.685Z"
   },
   {
    "duration": 200,
    "start_time": "2025-01-14T20:36:14.707Z"
   },
   {
    "duration": 452,
    "start_time": "2025-01-14T20:36:14.909Z"
   },
   {
    "duration": 381,
    "start_time": "2025-01-14T20:36:15.363Z"
   },
   {
    "duration": 14,
    "start_time": "2025-01-14T20:36:15.746Z"
   },
   {
    "duration": 78,
    "start_time": "2025-01-14T20:36:15.762Z"
   },
   {
    "duration": 13,
    "start_time": "2025-01-14T20:36:15.843Z"
   },
   {
    "duration": 23164,
    "start_time": "2025-01-14T20:36:15.857Z"
   },
   {
    "duration": 15,
    "start_time": "2025-01-14T20:36:39.022Z"
   },
   {
    "duration": 683,
    "start_time": "2025-01-14T20:46:50.121Z"
   },
   {
    "duration": 13,
    "start_time": "2025-01-14T20:49:55.066Z"
   },
   {
    "duration": 22070,
    "start_time": "2025-01-14T20:49:57.870Z"
   },
   {
    "duration": 0,
    "start_time": "2025-01-14T21:01:31.905Z"
   },
   {
    "duration": 0,
    "start_time": "2025-01-14T21:09:11.451Z"
   },
   {
    "duration": 0,
    "start_time": "2025-01-14T21:09:11.452Z"
   },
   {
    "duration": 8,
    "start_time": "2025-01-14T21:10:40.427Z"
   },
   {
    "duration": 71,
    "start_time": "2025-01-14T21:11:40.711Z"
   },
   {
    "duration": 15,
    "start_time": "2025-01-14T21:12:03.391Z"
   },
   {
    "duration": 45,
    "start_time": "2025-01-14T21:12:07.959Z"
   },
   {
    "duration": 8,
    "start_time": "2025-01-14T21:13:40.913Z"
   },
   {
    "duration": 13,
    "start_time": "2025-01-14T21:13:44.291Z"
   },
   {
    "duration": 7,
    "start_time": "2025-01-14T21:13:53.356Z"
   },
   {
    "duration": 15,
    "start_time": "2025-01-14T21:14:08.503Z"
   },
   {
    "duration": 0,
    "start_time": "2025-01-14T21:19:29.522Z"
   },
   {
    "duration": 1072,
    "start_time": "2025-01-14T21:20:23.461Z"
   },
   {
    "duration": 23,
    "start_time": "2025-01-14T21:20:24.535Z"
   },
   {
    "duration": 6,
    "start_time": "2025-01-14T21:20:24.560Z"
   },
   {
    "duration": 8,
    "start_time": "2025-01-14T21:20:24.568Z"
   },
   {
    "duration": 217,
    "start_time": "2025-01-14T21:20:24.578Z"
   },
   {
    "duration": 477,
    "start_time": "2025-01-14T21:20:24.797Z"
   },
   {
    "duration": 362,
    "start_time": "2025-01-14T21:20:25.275Z"
   },
   {
    "duration": 13,
    "start_time": "2025-01-14T21:20:25.639Z"
   },
   {
    "duration": 80,
    "start_time": "2025-01-14T21:20:25.653Z"
   },
   {
    "duration": 13,
    "start_time": "2025-01-14T21:20:25.736Z"
   },
   {
    "duration": 1050,
    "start_time": "2025-01-14T21:20:48.088Z"
   },
   {
    "duration": 20,
    "start_time": "2025-01-14T21:20:49.141Z"
   },
   {
    "duration": 6,
    "start_time": "2025-01-14T21:20:49.163Z"
   },
   {
    "duration": 8,
    "start_time": "2025-01-14T21:20:49.170Z"
   },
   {
    "duration": 214,
    "start_time": "2025-01-14T21:20:49.181Z"
   },
   {
    "duration": 477,
    "start_time": "2025-01-14T21:20:49.397Z"
   },
   {
    "duration": 380,
    "start_time": "2025-01-14T21:20:49.876Z"
   },
   {
    "duration": 13,
    "start_time": "2025-01-14T21:20:50.258Z"
   },
   {
    "duration": 88,
    "start_time": "2025-01-14T21:20:50.272Z"
   },
   {
    "duration": 11,
    "start_time": "2025-01-14T21:20:50.363Z"
   },
   {
    "duration": 3,
    "start_time": "2025-01-14T21:33:44.391Z"
   },
   {
    "duration": 23,
    "start_time": "2025-01-14T21:33:44.398Z"
   },
   {
    "duration": 6,
    "start_time": "2025-01-14T21:33:44.424Z"
   },
   {
    "duration": 8,
    "start_time": "2025-01-14T21:33:44.431Z"
   },
   {
    "duration": 199,
    "start_time": "2025-01-14T21:33:44.440Z"
   },
   {
    "duration": 464,
    "start_time": "2025-01-14T21:33:44.641Z"
   },
   {
    "duration": 404,
    "start_time": "2025-01-14T21:33:45.107Z"
   },
   {
    "duration": 13,
    "start_time": "2025-01-14T21:33:45.513Z"
   },
   {
    "duration": 6,
    "start_time": "2025-01-14T21:33:45.528Z"
   },
   {
    "duration": 11,
    "start_time": "2025-01-14T21:33:45.535Z"
   },
   {
    "duration": 3,
    "start_time": "2025-01-14T21:42:52.666Z"
   },
   {
    "duration": 19,
    "start_time": "2025-01-14T21:42:52.674Z"
   },
   {
    "duration": 6,
    "start_time": "2025-01-14T21:42:52.695Z"
   },
   {
    "duration": 9,
    "start_time": "2025-01-14T21:42:52.702Z"
   },
   {
    "duration": 269,
    "start_time": "2025-01-14T21:42:52.712Z"
   },
   {
    "duration": 452,
    "start_time": "2025-01-14T21:42:52.983Z"
   },
   {
    "duration": 396,
    "start_time": "2025-01-14T21:42:53.438Z"
   },
   {
    "duration": 11,
    "start_time": "2025-01-14T21:42:53.836Z"
   },
   {
    "duration": 8,
    "start_time": "2025-01-14T21:42:53.848Z"
   },
   {
    "duration": 12,
    "start_time": "2025-01-14T21:42:53.857Z"
   },
   {
    "duration": 221958,
    "start_time": "2025-01-14T21:42:53.870Z"
   },
   {
    "duration": 11,
    "start_time": "2025-01-14T21:52:10.516Z"
   },
   {
    "duration": 215081,
    "start_time": "2025-01-14T21:52:51.551Z"
   },
   {
    "duration": 24,
    "start_time": "2025-01-14T21:57:46.872Z"
   },
   {
    "duration": 34,
    "start_time": "2025-01-14T21:58:39.401Z"
   },
   {
    "duration": 7,
    "start_time": "2025-01-14T22:00:22.835Z"
   },
   {
    "duration": 3,
    "start_time": "2025-01-14T22:02:33.237Z"
   },
   {
    "duration": 20,
    "start_time": "2025-01-14T22:02:33.243Z"
   },
   {
    "duration": 5,
    "start_time": "2025-01-14T22:02:33.264Z"
   },
   {
    "duration": 7,
    "start_time": "2025-01-14T22:02:33.271Z"
   },
   {
    "duration": 175,
    "start_time": "2025-01-14T22:02:33.280Z"
   },
   {
    "duration": 463,
    "start_time": "2025-01-14T22:02:33.457Z"
   },
   {
    "duration": 401,
    "start_time": "2025-01-14T22:02:33.922Z"
   },
   {
    "duration": 11,
    "start_time": "2025-01-14T22:02:34.325Z"
   },
   {
    "duration": 8,
    "start_time": "2025-01-14T22:02:37.945Z"
   },
   {
    "duration": 15,
    "start_time": "2025-01-14T22:02:40.861Z"
   },
   {
    "duration": 7,
    "start_time": "2025-01-14T22:02:44.662Z"
   },
   {
    "duration": 8,
    "start_time": "2025-01-14T22:03:11.391Z"
   },
   {
    "duration": 18,
    "start_time": "2025-01-14T22:04:28.210Z"
   },
   {
    "duration": 8,
    "start_time": "2025-01-14T22:04:35.065Z"
   },
   {
    "duration": 8,
    "start_time": "2025-01-14T22:05:12.588Z"
   },
   {
    "duration": 10,
    "start_time": "2025-01-14T22:05:51.044Z"
   },
   {
    "duration": 20,
    "start_time": "2025-01-14T22:06:29.277Z"
   },
   {
    "duration": 9,
    "start_time": "2025-01-14T22:07:23.602Z"
   },
   {
    "duration": 3,
    "start_time": "2025-01-14T22:08:06.270Z"
   },
   {
    "duration": 1182,
    "start_time": "2025-01-14T22:14:10.314Z"
   },
   {
    "duration": 42,
    "start_time": "2025-01-14T22:14:11.498Z"
   },
   {
    "duration": 7,
    "start_time": "2025-01-14T22:14:11.543Z"
   },
   {
    "duration": 8,
    "start_time": "2025-01-14T22:14:11.553Z"
   },
   {
    "duration": 222,
    "start_time": "2025-01-14T22:14:11.563Z"
   },
   {
    "duration": 483,
    "start_time": "2025-01-14T22:14:11.787Z"
   },
   {
    "duration": 709,
    "start_time": "2025-01-14T22:14:12.272Z"
   },
   {
    "duration": 24,
    "start_time": "2025-01-14T22:14:12.983Z"
   },
   {
    "duration": 78,
    "start_time": "2025-01-14T22:14:13.010Z"
   },
   {
    "duration": 31,
    "start_time": "2025-01-14T22:14:13.090Z"
   },
   {
    "duration": 28497,
    "start_time": "2025-01-14T22:14:13.122Z"
   },
   {
    "duration": 11,
    "start_time": "2025-01-14T22:24:43.236Z"
   },
   {
    "duration": 16,
    "start_time": "2025-01-14T22:24:45.428Z"
   },
   {
    "duration": 29032,
    "start_time": "2025-01-14T22:24:46.498Z"
   },
   {
    "duration": 1442,
    "start_time": "2025-01-14T22:34:00.453Z"
   },
   {
    "duration": 7,
    "start_time": "2025-01-14T22:36:52.065Z"
   },
   {
    "duration": 16,
    "start_time": "2025-01-14T22:40:17.633Z"
   },
   {
    "duration": 29014,
    "start_time": "2025-01-14T22:40:19.195Z"
   },
   {
    "duration": 1182,
    "start_time": "2025-01-14T22:42:53.482Z"
   },
   {
    "duration": 212,
    "start_time": "2025-01-14T22:43:36.355Z"
   },
   {
    "duration": 160,
    "start_time": "2025-01-14T22:44:07.682Z"
   },
   {
    "duration": 23181,
    "start_time": "2025-01-14T22:44:43.196Z"
   },
   {
    "duration": 16,
    "start_time": "2025-01-14T22:52:17.156Z"
   },
   {
    "duration": 30167,
    "start_time": "2025-01-14T22:52:19.245Z"
   },
   {
    "duration": 15,
    "start_time": "2025-01-14T22:55:37.114Z"
   },
   {
    "duration": 28675,
    "start_time": "2025-01-14T22:55:38.136Z"
   },
   {
    "duration": 19,
    "start_time": "2025-01-14T22:57:00.453Z"
   },
   {
    "duration": 31379,
    "start_time": "2025-01-14T22:57:01.952Z"
   },
   {
    "duration": 16,
    "start_time": "2025-01-14T22:58:00.923Z"
   },
   {
    "duration": 32036,
    "start_time": "2025-01-14T22:58:01.794Z"
   },
   {
    "duration": 15,
    "start_time": "2025-01-14T23:01:56.440Z"
   },
   {
    "duration": 34163,
    "start_time": "2025-01-14T23:02:04.845Z"
   },
   {
    "duration": 32,
    "start_time": "2025-01-14T23:03:07.013Z"
   },
   {
    "duration": 29800,
    "start_time": "2025-01-14T23:03:07.651Z"
   },
   {
    "duration": 17,
    "start_time": "2025-01-14T23:04:22.820Z"
   },
   {
    "duration": 48,
    "start_time": "2025-01-14T23:04:33.517Z"
   },
   {
    "duration": 33670,
    "start_time": "2025-01-14T23:04:37.363Z"
   },
   {
    "duration": 17,
    "start_time": "2025-01-14T23:05:51.021Z"
   },
   {
    "duration": 34,
    "start_time": "2025-01-14T23:19:15.620Z"
   },
   {
    "duration": 1127,
    "start_time": "2025-01-14T23:30:22.627Z"
   },
   {
    "duration": 23,
    "start_time": "2025-01-14T23:30:23.755Z"
   },
   {
    "duration": 7,
    "start_time": "2025-01-14T23:30:23.779Z"
   },
   {
    "duration": 8,
    "start_time": "2025-01-14T23:30:23.788Z"
   },
   {
    "duration": 227,
    "start_time": "2025-01-14T23:30:23.806Z"
   },
   {
    "duration": 441,
    "start_time": "2025-01-14T23:30:24.034Z"
   },
   {
    "duration": 579,
    "start_time": "2025-01-14T23:30:24.477Z"
   },
   {
    "duration": 14,
    "start_time": "2025-01-14T23:30:25.058Z"
   },
   {
    "duration": 96,
    "start_time": "2025-01-14T23:30:25.073Z"
   },
   {
    "duration": 16,
    "start_time": "2025-01-14T23:30:25.171Z"
   },
   {
    "duration": 28723,
    "start_time": "2025-01-14T23:30:25.189Z"
   },
   {
    "duration": 17,
    "start_time": "2025-01-14T23:41:34.998Z"
   },
   {
    "duration": 47958,
    "start_time": "2025-01-14T23:41:35.768Z"
   },
   {
    "duration": 256,
    "start_time": "2025-01-14T23:58:58.440Z"
   },
   {
    "duration": 5,
    "start_time": "2025-01-14T23:59:59.126Z"
   },
   {
    "duration": 915,
    "start_time": "2025-01-15T00:03:58.029Z"
   },
   {
    "duration": 15,
    "start_time": "2025-01-15T00:05:48.178Z"
   },
   {
    "duration": 40437,
    "start_time": "2025-01-15T00:05:48.995Z"
   },
   {
    "duration": 8,
    "start_time": "2025-01-15T00:06:42.844Z"
   },
   {
    "duration": 18,
    "start_time": "2025-01-15T00:06:44.654Z"
   },
   {
    "duration": 29355,
    "start_time": "2025-01-15T00:06:45.669Z"
   },
   {
    "duration": 229,
    "start_time": "2025-01-15T00:11:03.547Z"
   },
   {
    "duration": 241,
    "start_time": "2025-01-15T00:13:01.189Z"
   },
   {
    "duration": 251,
    "start_time": "2025-01-15T00:14:47.300Z"
   },
   {
    "duration": 331,
    "start_time": "2025-01-15T00:15:29.560Z"
   },
   {
    "duration": 241,
    "start_time": "2025-01-15T00:16:47.423Z"
   },
   {
    "duration": 343,
    "start_time": "2025-01-15T00:18:21.686Z"
   },
   {
    "duration": 6232,
    "start_time": "2025-01-15T00:20:32.643Z"
   },
   {
    "duration": 495,
    "start_time": "2025-01-15T00:21:31.610Z"
   },
   {
    "duration": 166,
    "start_time": "2025-01-15T00:23:53.864Z"
   },
   {
    "duration": 192,
    "start_time": "2025-01-15T00:24:26.294Z"
   },
   {
    "duration": 195,
    "start_time": "2025-01-15T00:27:47.893Z"
   },
   {
    "duration": 4,
    "start_time": "2025-01-15T00:28:02.803Z"
   },
   {
    "duration": 23,
    "start_time": "2025-01-15T00:28:02.810Z"
   },
   {
    "duration": 5,
    "start_time": "2025-01-15T00:28:02.834Z"
   },
   {
    "duration": 7,
    "start_time": "2025-01-15T00:28:02.841Z"
   },
   {
    "duration": 192,
    "start_time": "2025-01-15T00:28:02.850Z"
   },
   {
    "duration": 602,
    "start_time": "2025-01-15T00:28:03.044Z"
   },
   {
    "duration": 611,
    "start_time": "2025-01-15T00:28:03.648Z"
   },
   {
    "duration": 201,
    "start_time": "2025-01-15T00:28:04.970Z"
   },
   {
    "duration": 12,
    "start_time": "2025-01-15T00:28:07.995Z"
   },
   {
    "duration": 9,
    "start_time": "2025-01-15T00:28:09.636Z"
   },
   {
    "duration": 143,
    "start_time": "2025-01-15T00:28:25.378Z"
   },
   {
    "duration": 49,
    "start_time": "2025-01-15T00:29:17.106Z"
   },
   {
    "duration": 14,
    "start_time": "2025-01-15T00:30:45.230Z"
   },
   {
    "duration": 57,
    "start_time": "2025-01-15T00:31:17.796Z"
   },
   {
    "duration": 8500,
    "start_time": "2025-01-15T00:31:38.014Z"
   },
   {
    "duration": 23,
    "start_time": "2025-01-15T00:33:59.100Z"
   },
   {
    "duration": 28,
    "start_time": "2025-01-15T00:34:06.538Z"
   },
   {
    "duration": 7967,
    "start_time": "2025-01-15T00:34:07.362Z"
   },
   {
    "duration": 1078,
    "start_time": "2025-01-15T01:21:35.034Z"
   },
   {
    "duration": 24,
    "start_time": "2025-01-15T01:21:36.114Z"
   },
   {
    "duration": 6,
    "start_time": "2025-01-15T01:21:36.141Z"
   },
   {
    "duration": 9,
    "start_time": "2025-01-15T01:21:36.149Z"
   },
   {
    "duration": 205,
    "start_time": "2025-01-15T01:21:36.159Z"
   },
   {
    "duration": 496,
    "start_time": "2025-01-15T01:21:36.366Z"
   },
   {
    "duration": 374,
    "start_time": "2025-01-15T01:21:36.864Z"
   },
   {
    "duration": 331,
    "start_time": "2025-01-15T01:21:37.239Z"
   },
   {
    "duration": 0,
    "start_time": "2025-01-15T01:21:37.572Z"
   },
   {
    "duration": 0,
    "start_time": "2025-01-15T01:21:37.573Z"
   },
   {
    "duration": 0,
    "start_time": "2025-01-15T01:21:37.574Z"
   },
   {
    "duration": 0,
    "start_time": "2025-01-15T01:21:37.575Z"
   },
   {
    "duration": 0,
    "start_time": "2025-01-15T01:21:37.576Z"
   },
   {
    "duration": 3,
    "start_time": "2025-01-15T01:21:52.536Z"
   },
   {
    "duration": 22,
    "start_time": "2025-01-15T01:21:52.541Z"
   },
   {
    "duration": 5,
    "start_time": "2025-01-15T01:21:52.564Z"
   },
   {
    "duration": 8,
    "start_time": "2025-01-15T01:21:52.571Z"
   },
   {
    "duration": 181,
    "start_time": "2025-01-15T01:21:52.582Z"
   },
   {
    "duration": 480,
    "start_time": "2025-01-15T01:21:52.764Z"
   },
   {
    "duration": 396,
    "start_time": "2025-01-15T01:21:53.246Z"
   },
   {
    "duration": 17,
    "start_time": "2025-01-15T01:21:53.644Z"
   },
   {
    "duration": 0,
    "start_time": "2025-01-15T01:21:53.664Z"
   },
   {
    "duration": 0,
    "start_time": "2025-01-15T01:21:53.665Z"
   },
   {
    "duration": 0,
    "start_time": "2025-01-15T01:21:53.666Z"
   },
   {
    "duration": 0,
    "start_time": "2025-01-15T01:21:53.668Z"
   },
   {
    "duration": 0,
    "start_time": "2025-01-15T01:21:53.669Z"
   },
   {
    "duration": 22,
    "start_time": "2025-01-15T01:22:02.604Z"
   },
   {
    "duration": 3,
    "start_time": "2025-01-15T01:22:10.683Z"
   },
   {
    "duration": 21,
    "start_time": "2025-01-15T01:22:10.689Z"
   },
   {
    "duration": 6,
    "start_time": "2025-01-15T01:22:10.713Z"
   },
   {
    "duration": 7,
    "start_time": "2025-01-15T01:22:10.721Z"
   },
   {
    "duration": 189,
    "start_time": "2025-01-15T01:22:10.731Z"
   },
   {
    "duration": 494,
    "start_time": "2025-01-15T01:22:10.922Z"
   },
   {
    "duration": 388,
    "start_time": "2025-01-15T01:22:11.418Z"
   },
   {
    "duration": 18,
    "start_time": "2025-01-15T01:22:11.808Z"
   },
   {
    "duration": 0,
    "start_time": "2025-01-15T01:22:11.828Z"
   },
   {
    "duration": 0,
    "start_time": "2025-01-15T01:22:11.830Z"
   },
   {
    "duration": 0,
    "start_time": "2025-01-15T01:22:11.832Z"
   },
   {
    "duration": 0,
    "start_time": "2025-01-15T01:22:11.834Z"
   },
   {
    "duration": 16,
    "start_time": "2025-01-15T01:22:20.577Z"
   },
   {
    "duration": 3,
    "start_time": "2025-01-15T01:22:35.733Z"
   },
   {
    "duration": 20,
    "start_time": "2025-01-15T01:22:36.350Z"
   },
   {
    "duration": 5,
    "start_time": "2025-01-15T01:22:36.955Z"
   },
   {
    "duration": 9,
    "start_time": "2025-01-15T01:22:38.399Z"
   },
   {
    "duration": 181,
    "start_time": "2025-01-15T01:22:38.877Z"
   },
   {
    "duration": 418,
    "start_time": "2025-01-15T01:22:40.926Z"
   },
   {
    "duration": 391,
    "start_time": "2025-01-15T01:22:47.207Z"
   },
   {
    "duration": 17,
    "start_time": "2025-01-15T01:22:48.940Z"
   },
   {
    "duration": 42,
    "start_time": "2025-01-15T01:22:59.599Z"
   },
   {
    "duration": 26,
    "start_time": "2025-01-15T01:23:30.724Z"
   },
   {
    "duration": 23800,
    "start_time": "2025-01-15T01:23:46.016Z"
   },
   {
    "duration": 1113,
    "start_time": "2025-01-15T01:24:09.820Z"
   },
   {
    "duration": 28,
    "start_time": "2025-01-15T01:29:16.082Z"
   }
  ],
  "kernelspec": {
   "display_name": "Python 3 (ipykernel)",
   "language": "python",
   "name": "python3"
  },
  "language_info": {
   "codemirror_mode": {
    "name": "ipython",
    "version": 3
   },
   "file_extension": ".py",
   "mimetype": "text/x-python",
   "name": "python",
   "nbconvert_exporter": "python",
   "pygments_lexer": "ipython3",
   "version": "3.9.19"
  },
  "toc": {
   "base_numbering": 1,
   "nav_menu": {},
   "number_sections": true,
   "sideBar": true,
   "skip_h1_title": true,
   "title_cell": "Table of Contents",
   "title_sidebar": "Contents",
   "toc_cell": false,
   "toc_position": {
    "height": "calc(100% - 180px)",
    "left": "10px",
    "top": "150px",
    "width": "165px"
   },
   "toc_section_display": true,
   "toc_window_display": true
  }
 },
 "nbformat": 4,
 "nbformat_minor": 2
}
